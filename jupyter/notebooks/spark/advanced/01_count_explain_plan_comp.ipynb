{
 "cells": [
  {
   "cell_type": "markdown",
   "id": "e662cf22-28a0-4533-b2b8-f8e1715fcada",
   "metadata": {},
   "source": [
    "# COUNT(1) vs COUNT(*) vs COUNT(COL_NAME)"
   ]
  },
  {
   "cell_type": "code",
   "execution_count": null,
   "id": "526666cf-8ac8-409f-89dd-512a6be00011",
   "metadata": {},
   "outputs": [],
   "source": [
    "# Create Spark Session\n",
    "\n",
    "from pyspark.sql import SparkSession\n",
    "\n",
    "spark = SparkSession \\\n",
    "    .builder \\\n",
    "    .appName(\"Count(1) vs Count(*)\") \\\n",
    "    .master(\"spark://spark-master:7077\") \\\n",
    "    .getOrCreate()\n",
    "\n",
    "spark"
   ]
  },
  {
   "cell_type": "code",
   "execution_count": null,
   "id": "08a916c0-98fa-4987-b979-42946cca6283",
   "metadata": {},
   "outputs": [],
   "source": [
    "# Lets create a simple Python decorator - {get_time} to get the execution timings\n",
    "# If you dont know about Python decorators - check out : https://www.geeksforgeeks.org/decorators-in-python/\n",
    "import time\n",
    "\n",
    "def get_time(func):\n",
    "    def inner_get_time() -> str:\n",
    "        start_time = time.time()\n",
    "        func()\n",
    "        end_time = time.time()\n",
    "        return (f\"Execution time: {(end_time - start_time)*1000} ms\")\n",
    "    print(inner_get_time())"
   ]
  },
  {
   "cell_type": "code",
   "execution_count": null,
   "id": "69801eee-aec0-47f9-96f4-6c2ccf671a5b",
   "metadata": {},
   "outputs": [],
   "source": [
    "# Lets read the dataframe to check the data\n",
    "df = spark \\\n",
    "    .read \\\n",
    "    .format(\"csv\") \\\n",
    "    .option(\"header\", True) \\\n",
    "    .load(\"dataset/sales.csv\")\n",
    "\n",
    "df.show()"
   ]
  },
  {
   "cell_type": "code",
   "execution_count": null,
   "id": "10464096-da89-498a-be92-45808a495330",
   "metadata": {},
   "outputs": [],
   "source": [
    "# Get count(1) performance\n",
    "from pyspark.sql.functions import lit, count\n",
    "\n",
    "@get_time\n",
    "def x(): df.groupBy(\"trx_id\").agg(count(lit(1))).write.format(\"noop\").mode(\"overwrite\").save()"
   ]
  },
  {
   "cell_type": "code",
   "execution_count": null,
   "id": "290e8312-4fe3-4f90-8725-005b25b88a5c",
   "metadata": {},
   "outputs": [],
   "source": [
    "# Get count(col_name) performance\n",
    "@get_time\n",
    "def x(): df.groupBy(\"trx_id\").agg(count(\"city_id\")).write.format(\"noop\").mode(\"overwrite\").save()"
   ]
  },
  {
   "cell_type": "code",
   "execution_count": null,
   "id": "863ac0ef-7829-42b6-90a4-2f83d1b48dd7",
   "metadata": {},
   "outputs": [],
   "source": [
    "# Get count(*) performance\n",
    "@get_time\n",
    "def x(): df.groupBy(\"trx_id\").agg(count(\"*\")).write.format(\"noop\").mode(\"overwrite\").save()"
   ]
  },
  {
   "cell_type": "code",
   "execution_count": null,
   "id": "6bd2a5ed-f3e2-4c84-98f2-8155ce9ec0e5",
   "metadata": {},
   "outputs": [],
   "source": [
    "# Explain Plan for count(*)\n",
    "df.groupBy(\"trx_id\").agg(count(\"*\")).explain(True)"
   ]
  },
  {
   "cell_type": "code",
   "execution_count": null,
   "id": "9695b587-7a54-4ee8-b5e4-f75fbe5493c7",
   "metadata": {},
   "outputs": [],
   "source": [
    "# Explain Plan for count(1)\n",
    "df.groupBy(\"trx_id\").agg(count(lit(1))).explain(True)"
   ]
  },
  {
   "cell_type": "code",
   "execution_count": null,
   "id": "d6fb2fd0-bccb-4bc4-9224-87020e87b8c8",
   "metadata": {},
   "outputs": [],
   "source": [
    "# Explain plan with count(col_name)\n",
    "df.groupBy(\"trx_id\").agg(count(\"city_id\")).explain(True)"
   ]
  },
  {
   "cell_type": "code",
   "execution_count": null,
   "id": "2336c58b-32f3-4ada-bed7-db834417f83c",
   "metadata": {},
   "outputs": [],
   "source": []
  }
 ],
 "metadata": {
  "kernelspec": {
   "display_name": "Python 3 (ipykernel)",
   "language": "python",
   "name": "python3"
  },
  "language_info": {
   "codemirror_mode": {
    "name": "ipython",
    "version": 3
   },
   "file_extension": ".py",
   "mimetype": "text/x-python",
   "name": "python",
   "nbconvert_exporter": "python",
   "pygments_lexer": "ipython3",
   "version": "3.11.6"
  }
 },
 "nbformat": 4,
 "nbformat_minor": 5
}
