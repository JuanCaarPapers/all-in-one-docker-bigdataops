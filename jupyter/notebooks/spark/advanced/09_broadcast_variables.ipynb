{
 "cells": [
  {
   "cell_type": "markdown",
   "id": "ddc98d09-f531-4789-9f0d-dc3ada75170c",
   "metadata": {},
   "source": [
    "# Broadcase Variables"
   ]
  },
  {
   "cell_type": "code",
   "execution_count": null,
   "id": "9517e985-9f88-41b0-ab12-771b47d0a017",
   "metadata": {},
   "outputs": [],
   "source": [
    "# Create Spark Session\n",
    "\n",
    "from pyspark.sql import SparkSession\n",
    "\n",
    "spark = SparkSession \\\n",
    "    .builder \\\n",
    "    .appName(\"Broadcast Variable\") \\\n",
    "    .master(\"spark://spark-master:7077\") \\\n",
    "    .getOrCreate()\n",
    "\n",
    "spark"
   ]
  },
  {
   "cell_type": "code",
   "execution_count": null,
   "id": "968d17dc-fe46-4654-abc0-35e8b9f68c8d",
   "metadata": {},
   "outputs": [],
   "source": [
    "# Our example dataset\n",
    "\n",
    "_data = [\n",
    "    [\"Ramesh\", \"D001\", \"Apache Spark\"],\n",
    "    [\"Siv\", \"D001\", \"C++\"],\n",
    "    [\"Imran\", \"D002\", \"English\"],\n",
    "    [\"Akshay\", \"D003\", \"Hindi\"],\n",
    "    [\"Somesh\", \"D002\", \"Scala\"],\n",
    "    [\"Hitesh\", \"D001\", \"Physics\"]\n",
    "]\n",
    "\n",
    "_cols = [\"NAME\", \"DEPT_CODE\", \"FAV_SUBJECT\"]\n",
    "\n",
    "df_students = spark.createDataFrame(data=_data, schema=_cols)\n",
    "df_students.printSchema()\n",
    "df_students.show()s"
   ]
  },
  {
   "cell_type": "code",
   "execution_count": null,
   "id": "0d1031bc-5f67-4592-8027-7925f4144ceb",
   "metadata": {},
   "outputs": [],
   "source": [
    "# Broadcast Varible\n",
    "\n",
    "dept_names = {\"D001\": \"Department 1\", \"D002\": \"Department 2\", \"D003\": \"Department 3\"}\n",
    "dept_est = {\"D001\": 1990, \"D003\": 2001}\n",
    "\n",
    "broadcast_dept_names = spark.sparkContext.broadcast(dept_names)\n",
    "broadcast_dept_est = spark.sparkContext.broadcast(dept_est)\n",
    "\n",
    "# Check the type of the variable\n",
    "print(\"The type is: \" + str(type(broadcast_dept_est)))\n",
    "\n",
    "# In case we want to check the value\n",
    "print(broadcast_dept_names.value)\n",
    "print(broadcast_dept_est.value)"
   ]
  },
  {
   "cell_type": "code",
   "execution_count": null,
   "id": "1015a0f6-980a-4d96-8f3a-31a9fc55197f",
   "metadata": {},
   "outputs": [],
   "source": [
    "# Lets use broadcast variable to use Dept info\n",
    "_new_schema = [\"NAME\", \"DEPT_CODE\", \"FAV_SUBJECT\", \"DEPT_NAME\", \"ESTD\"]\n",
    "\n",
    "# Use lambda function to iterate over row to get the broadcast value\n",
    "df = df_students.rdd.map(lambda row: [\n",
    "    row.NAME, \n",
    "    row.DEPT_CODE, \n",
    "    row.FAV_SUBJECT,\n",
    "    broadcast_dept_names.value.get(row.DEPT_CODE),\n",
    "    broadcast_dept_est.value.get(row.DEPT_CODE)]).toDF(_new_schema)\n",
    "\n",
    "df.show()"
   ]
  },
  {
   "cell_type": "code",
   "execution_count": null,
   "id": "9c801919-4663-4df8-a2b5-3c1aff78615c",
   "metadata": {},
   "outputs": [],
   "source": []
  }
 ],
 "metadata": {
  "kernelspec": {
   "display_name": "Python 3 (ipykernel)",
   "language": "python",
   "name": "python3"
  },
  "language_info": {
   "codemirror_mode": {
    "name": "ipython",
    "version": 3
   },
   "file_extension": ".py",
   "mimetype": "text/x-python",
   "name": "python",
   "nbconvert_exporter": "python",
   "pygments_lexer": "ipython3",
   "version": "3.11.6"
  }
 },
 "nbformat": 4,
 "nbformat_minor": 5
}
