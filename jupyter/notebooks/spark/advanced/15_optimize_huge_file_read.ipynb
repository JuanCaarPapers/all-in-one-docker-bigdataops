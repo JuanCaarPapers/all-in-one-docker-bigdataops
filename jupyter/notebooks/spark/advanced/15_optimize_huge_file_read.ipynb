{
 "cells": [
  {
   "cell_type": "markdown",
   "id": "1ad0c4db-7abf-404b-bdca-9d20f6992fa5",
   "metadata": {},
   "source": [
    "### Optimize huge file read"
   ]
  },
  {
   "cell_type": "code",
   "execution_count": 1,
   "id": "fdef6a58-1082-4ba5-bc4a-666bf20ed7db",
   "metadata": {},
   "outputs": [
    {
     "name": "stderr",
     "output_type": "stream",
     "text": [
      "Setting default log level to \"WARN\".\n",
      "To adjust logging level use sc.setLogLevel(newLevel). For SparkR, use setLogLevel(newLevel).\n",
      "24/11/06 19:38:00 WARN NativeCodeLoader: Unable to load native-hadoop library for your platform... using builtin-java classes where applicable\n"
     ]
    },
    {
     "data": {
      "text/html": [
       "\n",
       "            <div>\n",
       "                <p><b>SparkSession - in-memory</b></p>\n",
       "                \n",
       "        <div>\n",
       "            <p><b>SparkContext</b></p>\n",
       "\n",
       "            <p><a href=\"http://b9eb03d0898c:4040\">Spark UI</a></p>\n",
       "\n",
       "            <dl>\n",
       "              <dt>Version</dt>\n",
       "                <dd><code>v3.4.4</code></dd>\n",
       "              <dt>Master</dt>\n",
       "                <dd><code>spark://spark-master:7077</code></dd>\n",
       "              <dt>AppName</dt>\n",
       "                <dd><code>Optimize huge file reads</code></dd>\n",
       "            </dl>\n",
       "        </div>\n",
       "        \n",
       "            </div>\n",
       "        "
      ],
      "text/plain": [
       "<pyspark.sql.session.SparkSession at 0x7f089cb1b090>"
      ]
     },
     "execution_count": 1,
     "metadata": {},
     "output_type": "execute_result"
    }
   ],
   "source": [
    "# Create Spark Session\n",
    "\n",
    "from pyspark.sql import SparkSession\n",
    "\n",
    "spark = SparkSession \\\n",
    "    .builder \\\n",
    "    .appName(\"Optimize huge file reads\") \\\n",
    "    .master(\"spark://spark-master:7077\") \\\n",
    "    .getOrCreate()\n",
    "\n",
    "spark"
   ]
  },
  {
   "cell_type": "code",
   "execution_count": 2,
   "id": "bbf81c9b-47a3-4af0-aee6-0c54fbdaf418",
   "metadata": {},
   "outputs": [
    {
     "name": "stdout",
     "output_type": "stream",
     "text": [
      "Partition Size: 134217728 in bytes and 128.0 in MB\n"
     ]
    }
   ],
   "source": [
    "# Check the default partition size\n",
    "partition_size = spark.conf.get(\"spark.sql.files.maxPartitionBytes\").replace(\"b\",\"\")\n",
    "print(f\"Partition Size: {partition_size} in bytes and {int(partition_size) / 1024 / 1024} in MB\")"
   ]
  },
  {
   "cell_type": "code",
   "execution_count": 3,
   "id": "a57164fa-d074-4c41-9e85-912a53b1a48c",
   "metadata": {},
   "outputs": [
    {
     "name": "stdout",
     "output_type": "stream",
     "text": [
      "Parallelism : 8\n"
     ]
    }
   ],
   "source": [
    "# Check the default parallelism available\n",
    "print(f\"Parallelism : {spark.sparkContext.defaultParallelism}\")"
   ]
  },
  {
   "cell_type": "code",
   "execution_count": 4,
   "id": "7aa3f120-34bf-401a-900f-9741aa6cece1",
   "metadata": {},
   "outputs": [
    {
     "name": "stdout",
     "output_type": "stream",
     "text": [
      "Data File Size: \n",
      "            97427001 in bytes \n",
      "            92.91362857818604 in MB\n",
      "            0.0907359654083848 in GB\n"
     ]
    }
   ],
   "source": [
    "# File size that we are going to import\n",
    "import os\n",
    "file_size = os.path.getsize('/home/jovyan/data/employee_records.csv')\n",
    "print(f\"\"\"Data File Size: \n",
    "            {file_size} in bytes \n",
    "            {int(file_size) / 1024 / 1024} in MB\n",
    "            {int(file_size) / 1024 / 1024 / 1024} in GB\"\"\")"
   ]
  },
  {
   "cell_type": "code",
   "execution_count": 5,
   "id": "a5db4b77-afcf-45de-8efc-e6b78a4b0a5e",
   "metadata": {},
   "outputs": [
    {
     "name": "stderr",
     "output_type": "stream",
     "text": [
      "                                                                                \r"
     ]
    },
    {
     "name": "stdout",
     "output_type": "stream",
     "text": [
      "Number of Partition -> 8\n"
     ]
    },
    {
     "name": "stderr",
     "output_type": "stream",
     "text": [
      "                                                                                \r"
     ]
    }
   ],
   "source": [
    "# Lets read the file and write in noop format for Performance Benchmarking\n",
    "\n",
    "df = spark.read.format(\"csv\").option(\"header\", True).load(\"hdfs://namenode:9000/input/data/employee_records.csv\")\n",
    "print(f\"Number of Partition -> {df.rdd.getNumPartitions()}\")\n",
    "df.write.format(\"noop\").mode(\"overwrite\").save()"
   ]
  },
  {
   "cell_type": "code",
   "execution_count": 6,
   "id": "5379fc09-af7e-447a-8657-84b5c748077a",
   "metadata": {},
   "outputs": [
    {
     "name": "stdout",
     "output_type": "stream",
     "text": [
      "Partition Size: 402653184 in bytes and 384.0 in MB\n"
     ]
    }
   ],
   "source": [
    "# Change the default partition size to 3 times to decrease the number of partitions\n",
    "spark.conf.set(\"spark.sql.files.maxPartitionBytes\", str(128 * 3 * 1024 * 1024)+\"b\")\n",
    "\n",
    "# Verify the partition size\n",
    "partition_size = spark.conf.get(\"spark.sql.files.maxPartitionBytes\").replace(\"b\",\"\")\n",
    "print(f\"Partition Size: {partition_size} in bytes and {int(partition_size) / 1024 / 1024} in MB\")"
   ]
  },
  {
   "cell_type": "code",
   "execution_count": 7,
   "id": "63b49278-a828-49d5-b2cc-aa0253d29d51",
   "metadata": {},
   "outputs": [
    {
     "name": "stdout",
     "output_type": "stream",
     "text": [
      "Number of Partition -> 8\n"
     ]
    },
    {
     "name": "stderr",
     "output_type": "stream",
     "text": [
      "                                                                                \r"
     ]
    }
   ],
   "source": [
    "# Lets read the file again with new partition size and write in noop format for Performance Benchmarking\n",
    "\n",
    "df = spark.read.format(\"csv\").option(\"header\", True).load(\"hdfs://namenode:9000/input/data/employee_records.csv\")\n",
    "print(f\"Number of Partition -> {df.rdd.getNumPartitions()}\")\n",
    "df.write.format(\"noop\").mode(\"overwrite\").save()"
   ]
  },
  {
   "cell_type": "code",
   "execution_count": 8,
   "id": "e196defd-3bd1-4ca2-8306-f97c6003bc37",
   "metadata": {},
   "outputs": [
    {
     "name": "stdout",
     "output_type": "stream",
     "text": [
      "Partition Size: 2097152 in bytes and 2.0 in MB\n"
     ]
    }
   ],
   "source": [
    "# Change the default partition size to 16 MB to decrease the number of partitions\n",
    "spark.conf.set(\"spark.sql.files.maxPartitionBytes\", str(2 * 1024 * 1024)+\"b\")\n",
    "\n",
    "# Verify the partition size\n",
    "partition_size = spark.conf.get(\"spark.sql.files.maxPartitionBytes\").replace(\"b\",\"\")\n",
    "print(f\"Partition Size: {partition_size} in bytes and {int(partition_size) / 1024 / 1024} in MB\")"
   ]
  },
  {
   "cell_type": "code",
   "execution_count": 9,
   "id": "45c98587-2db5-471b-8b93-d042e7aa37b2",
   "metadata": {},
   "outputs": [
    {
     "name": "stdout",
     "output_type": "stream",
     "text": [
      "Number of Partition -> 47\n"
     ]
    },
    {
     "name": "stderr",
     "output_type": "stream",
     "text": [
      "                                                                                \r"
     ]
    }
   ],
   "source": [
    "# Lets read the file again with new partition size and write in noop format for Performance Benchmarking\n",
    "\n",
    "df = spark.read.format(\"csv\").option(\"header\", True).load(\"hdfs://namenode:9000/input/data/employee_records.csv\")\n",
    "print(f\"Number of Partition -> {df.rdd.getNumPartitions()}\")\n",
    "df.write.format(\"noop\").mode(\"overwrite\").save()"
   ]
  },
  {
   "cell_type": "code",
   "execution_count": 11,
   "id": "53ab2af7-82df-4936-b641-0ab820e13bc9",
   "metadata": {},
   "outputs": [
    {
     "name": "stderr",
     "output_type": "stream",
     "text": [
      "                                                                                \r"
     ]
    },
    {
     "data": {
      "text/plain": [
       "92.91362857818604"
      ]
     },
     "execution_count": 11,
     "metadata": {},
     "output_type": "execute_result"
    }
   ],
   "source": [
    "# How to estimate the size in memory of a dataframe\n",
    "\n",
    "def get_size_in_megabytes(df):\n",
    "    df.cache().count()\n",
    "    size_in_bytes = df._jdf.queryExecution().optimizedPlan().stats().sizeInBytes()\n",
    "    df.unpersist(blocking=True)\n",
    "    return size_in_bytes/1024**2\n",
    "\n",
    "get_size_in_megabytes(df)"
   ]
  },
  {
   "cell_type": "code",
   "execution_count": 12,
   "id": "37027252-58d7-48fc-b09b-997993aa167d",
   "metadata": {},
   "outputs": [
    {
     "name": "stderr",
     "output_type": "stream",
     "text": [
      "                                                                                \r"
     ]
    },
    {
     "data": {
      "text/plain": [
       "113.69709014892578"
      ]
     },
     "execution_count": 12,
     "metadata": {},
     "output_type": "execute_result"
    }
   ],
   "source": [
    "# If the full datdaframe is very big, you can do an approximation with a sample\n",
    "\n",
    "sample_perc = 0.1\n",
    "sample_size_in_megabytes = get_size_in_megabytes(df.sample(sample_perc))\n",
    "approx_size_in_megabytes = sample_size_in_megabytes / sample_perc\n",
    "approx_size_in_megabytes"
   ]
  },
  {
   "cell_type": "code",
   "execution_count": 14,
   "id": "07a5fe46-a2c2-4ac3-85e2-cbed32bd1a75",
   "metadata": {},
   "outputs": [
    {
     "name": "stderr",
     "output_type": "stream",
     "text": [
      "                                                                                \r"
     ]
    },
    {
     "data": {
      "text/plain": [
       "47"
      ]
     },
     "execution_count": 14,
     "metadata": {},
     "output_type": "execute_result"
    }
   ],
   "source": [
    "# Estimation of optimal partition number\n",
    "import math\n",
    "\n",
    "max_partition_size = int(spark.conf.get(\"spark.sql.files.maxPartitionBytes\").replace(\"b\",\"\"))/1024**2\n",
    "optimal_partition_number = math.ceil(get_size_in_megabytes(df) / max_partition_size)\n",
    "optimal_partition_number"
   ]
  },
  {
   "cell_type": "code",
   "execution_count": 15,
   "id": "b444a989-064a-49b6-b86e-0028d3f431b4",
   "metadata": {},
   "outputs": [],
   "source": [
    "spark.stop()"
   ]
  },
  {
   "cell_type": "code",
   "execution_count": null,
   "id": "4d7b48f7-657a-4d9f-bd76-19c095701061",
   "metadata": {},
   "outputs": [],
   "source": []
  }
 ],
 "metadata": {
  "kernelspec": {
   "display_name": "Python 3 (ipykernel)",
   "language": "python",
   "name": "python3"
  },
  "language_info": {
   "codemirror_mode": {
    "name": "ipython",
    "version": 3
   },
   "file_extension": ".py",
   "mimetype": "text/x-python",
   "name": "python",
   "nbconvert_exporter": "python",
   "pygments_lexer": "ipython3",
   "version": "3.11.6"
  }
 },
 "nbformat": 4,
 "nbformat_minor": 5
}
