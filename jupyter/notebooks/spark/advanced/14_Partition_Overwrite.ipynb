{
 "cells": [
  {
   "cell_type": "markdown",
   "id": "37fa0b39-e276-409e-8d5d-b8dfe7f6425b",
   "metadata": {},
   "source": [
    "## Dynamic Partition Overwrite"
   ]
  },
  {
   "cell_type": "code",
   "execution_count": null,
   "id": "0d92d87a-50c3-43fc-9e86-662584f8e0ae",
   "metadata": {},
   "outputs": [],
   "source": [
    "# Create Spark Session\n",
    "\n",
    "from pyspark.sql import SparkSession\n",
    "\n",
    "spark = SparkSession \\\n",
    "    .builder \\\n",
    "    .appName(\"Partition Overwrite\") \\\n",
    "    .master(\"spark://spark-master:7077\") \\\n",
    "    .getOrCreate()\n",
    "\n",
    "spark"
   ]
  },
  {
   "cell_type": "code",
   "execution_count": null,
   "id": "e4954f28-5dc8-4508-a504-89b3ba759f1f",
   "metadata": {},
   "outputs": [],
   "source": [
    "# Example dataset\n",
    "from pyspark.sql.functions import cast, to_date\n",
    "_data = [\n",
    "    [\"ORD1001\", \"P003\", 70, \"01-21-2022\"],\n",
    "    [\"ORD1004\", \"P033\", 12, \"01-24-2022\"],\n",
    "    [\"ORD1005\", \"P036\", 10, \"01-20-2022\"],\n",
    "    [\"ORD1002\", \"P016\", 2, \"01-10-2022\"],\n",
    "    [\"ORD1003\", \"P012\", 6, \"01-10-2022\"],\n",
    "]\n",
    "\n",
    "_cols = [\"order_id\", \"prod_id\", \"qty\", \"order_date\"]\n",
    "\n",
    "# Create the dataframe\n",
    "df = spark.createDataFrame(data=_data, schema=_cols)\n",
    "\n",
    "# Cast the Order date from String to Date\n",
    "df = df.withColumn(\"order_date\", to_date(\"order_date\" ,\"MM-dd-yyyy\"))\n",
    "df.printSchema()\n",
    "df.show()"
   ]
  },
  {
   "cell_type": "code",
   "execution_count": null,
   "id": "f36185ef-9894-4a8a-8fab-bec9422c10c1",
   "metadata": {},
   "outputs": [],
   "source": [
    "# Check the mode for Partition Overwrite\n",
    "spark.conf.get(\"spark.sql.sources.partitionOverwriteMode\")"
   ]
  },
  {
   "cell_type": "code",
   "execution_count": null,
   "id": "4b394b78-0f88-461a-8e17-5d7b09c2911c",
   "metadata": {},
   "outputs": [],
   "source": [
    "# Lets repartition the data with order_date and write\n",
    "\n",
    "df.repartition(\"order_date\") \\\n",
    "    .write \\\n",
    "    .format(\"parquet\") \\\n",
    "    .partitionBy(\"order_date\") \\\n",
    "    .mode(\"overwrite\") \\\n",
    "    .save(\"dataset/orders_partitioned\")"
   ]
  },
  {
   "cell_type": "code",
   "execution_count": null,
   "id": "253acc41-9b8c-41d4-aa24-2d3d20527476",
   "metadata": {},
   "outputs": [],
   "source": [
    "%%sh\n",
    "\n",
    "ls -ltr dataset/orders_partitioned/"
   ]
  },
  {
   "cell_type": "code",
   "execution_count": null,
   "id": "fe17ce65-9ddc-40d4-b6a0-23a7a00885bb",
   "metadata": {},
   "outputs": [],
   "source": [
    "# Validate data\n",
    "from pyspark.sql.functions import count, lit\n",
    "\n",
    "spark.read.parquet(\"dataset/orders_partitioned/\").groupBy(\"order_date\").agg(count(lit(1))).show()"
   ]
  },
  {
   "cell_type": "code",
   "execution_count": null,
   "id": "b6a61128-c358-4aac-8696-f1ba02e9fb96",
   "metadata": {},
   "outputs": [],
   "source": [
    "# Lets create our delta dataset for Overwrite\n",
    "\n",
    "_data = [\n",
    "    [\"ORD1010\", \"P053\", 78, \"01-24-2022\"],\n",
    "    [\"ORD1011\", \"P076\", 21, \"01-20-2022\"],\n",
    "]\n",
    "\n",
    "_cols = [\"order_id\", \"prod_id\", \"qty\", \"order_date\"]\n",
    "\n",
    "# Create the delta dataframe\n",
    "delta_df = spark.createDataFrame(data=_data, schema=_cols)\n",
    "\n",
    "# Cast the Order date from String to Date\n",
    "delta_df = delta_df.withColumn(\"order_date\", to_date(\"order_date\" ,\"MM-dd-yyyy\"))\n",
    "delta_df.printSchema()\n",
    "delta_df.show()"
   ]
  },
  {
   "cell_type": "code",
   "execution_count": null,
   "id": "bbc350eb-0d73-42b2-a102-4069f0c00155",
   "metadata": {},
   "outputs": [],
   "source": [
    "# Lets write to the same location for Orders partitioned\n",
    "\n",
    "delta_df.repartition(\"order_date\") \\\n",
    "    .write \\\n",
    "    .format(\"parquet\") \\\n",
    "    .partitionBy(\"order_date\") \\\n",
    "    .mode(\"overwrite\") \\\n",
    "    .save(\"dataset/orders_partitioned\")"
   ]
  },
  {
   "cell_type": "code",
   "execution_count": null,
   "id": "12161c15-1a88-4d8f-b94f-0a7bdd416343",
   "metadata": {},
   "outputs": [],
   "source": [
    "%%sh\n",
    "\n",
    "ls -ltr dataset/orders_partitioned/"
   ]
  },
  {
   "cell_type": "code",
   "execution_count": null,
   "id": "45b44a9e-1a59-4888-a93d-0b6dfef639da",
   "metadata": {},
   "outputs": [],
   "source": [
    "# Validate data\n",
    "from pyspark.sql.functions import count, lit\n",
    "\n",
    "spark.read.parquet(\"dataset/orders_partitioned/\").groupBy(\"order_date\").agg(count(lit(1))).show()"
   ]
  },
  {
   "cell_type": "markdown",
   "id": "69cfa868-920a-484e-ba29-7be226f2c371",
   "metadata": {},
   "source": [
    "### Lets follow the same example but this time with partitionOverwriteMode as \"DYNAMIC\""
   ]
  },
  {
   "cell_type": "code",
   "execution_count": null,
   "id": "43bde803-5238-4143-b6fb-48fa0ae163a1",
   "metadata": {},
   "outputs": [],
   "source": [
    "# Setting the partitionOverwriteMode as DYNAMIC\n",
    "\n",
    "spark.conf.set(\"spark.sql.sources.partitionOverwriteMode\", \"dynamic\")\n",
    "spark.conf.get(\"spark.sql.sources.partitionOverwriteMode\")"
   ]
  },
  {
   "cell_type": "code",
   "execution_count": null,
   "id": "fbf452d3-aa64-484a-a7b3-3d6e9ccd3426",
   "metadata": {},
   "outputs": [],
   "source": [
    "# Example dataset\n",
    "from pyspark.sql.functions import cast, to_date\n",
    "_data = [\n",
    "    [\"ORD1001\", \"P003\", 70, \"01-21-2022\"],\n",
    "    [\"ORD1004\", \"P033\", 12, \"01-24-2022\"],\n",
    "    [\"ORD1005\", \"P036\", 10, \"01-20-2022\"],\n",
    "    [\"ORD1002\", \"P016\", 2, \"01-10-2022\"],\n",
    "    [\"ORD1003\", \"P012\", 6, \"01-10-2022\"],\n",
    "]\n",
    "\n",
    "_cols = [\"order_id\", \"prod_id\", \"qty\", \"order_date\"]\n",
    "\n",
    "# Create the dataframe\n",
    "df = spark.createDataFrame(data=_data, schema=_cols)\n",
    "\n",
    "# Cast the Order date from String to Date\n",
    "df = df.withColumn(\"order_date\", to_date(\"order_date\" ,\"MM-dd-yyyy\"))\n",
    "df.printSchema()\n",
    "df.show()"
   ]
  },
  {
   "cell_type": "code",
   "execution_count": null,
   "id": "4ebba3ea-0669-4570-a05b-e5751022e5c1",
   "metadata": {},
   "outputs": [],
   "source": [
    "# Lets repartition the data with order_date and write\n",
    "\n",
    "df.repartition(\"order_date\") \\\n",
    "    .write \\\n",
    "    .format(\"parquet\") \\\n",
    "    .partitionBy(\"order_date\") \\\n",
    "    .mode(\"overwrite\") \\\n",
    "    .save(\"dataset/orders_partitioned\")"
   ]
  },
  {
   "cell_type": "code",
   "execution_count": null,
   "id": "78518de0-71ca-4bff-8563-b18769c0d0bc",
   "metadata": {},
   "outputs": [],
   "source": [
    "%%sh\n",
    "\n",
    "ls -ltr dataset/orders_partitioned/"
   ]
  },
  {
   "cell_type": "code",
   "execution_count": null,
   "id": "c06a4ce8-ec83-418c-9eea-71755b0509ab",
   "metadata": {},
   "outputs": [],
   "source": [
    "# Validate data\n",
    "from pyspark.sql.functions import count, lit\n",
    "\n",
    "spark.read.parquet(\"dataset/orders_partitioned/\").groupBy(\"order_date\").agg(count(lit(1))).show()"
   ]
  },
  {
   "cell_type": "code",
   "execution_count": null,
   "id": "ba6b5d67-15d8-4607-8260-1fefa567458b",
   "metadata": {},
   "outputs": [],
   "source": [
    "# Lets create our delta dataset for Overwrite\n",
    "\n",
    "_data = [\n",
    "    [\"ORD1010\", \"P053\", 78, \"01-24-2022\"],\n",
    "    [\"ORD1011\", \"P076\", 21, \"01-10-2022\"],\n",
    "]\n",
    "\n",
    "_cols = [\"order_id\", \"prod_id\", \"qty\", \"order_date\"]\n",
    "\n",
    "# Create the delta dataframe\n",
    "delta_df = spark.createDataFrame(data=_data, schema=_cols)\n",
    "\n",
    "# Cast the Order date from String to Date\n",
    "delta_df = delta_df.withColumn(\"order_date\", to_date(\"order_date\" ,\"MM-dd-yyyy\"))\n",
    "delta_df.printSchema()\n",
    "delta_df.show()"
   ]
  },
  {
   "cell_type": "code",
   "execution_count": null,
   "id": "854e0f82-7041-4c98-ae3f-fb889906c128",
   "metadata": {},
   "outputs": [],
   "source": [
    "# Lets write to the same location for Orders partitioned\n",
    "\n",
    "delta_df.repartition(\"order_date\") \\\n",
    "    .write \\\n",
    "    .format(\"parquet\") \\\n",
    "    .partitionBy(\"order_date\") \\\n",
    "    .mode(\"overwrite\") \\\n",
    "    .save(\"dataset/orders_partitioned\")"
   ]
  },
  {
   "cell_type": "code",
   "execution_count": null,
   "id": "111e5fc1-6fd5-49a4-975a-e83375d58fcb",
   "metadata": {},
   "outputs": [],
   "source": [
    "%%sh\n",
    "\n",
    "ls -ltr dataset/orders_partitioned/"
   ]
  },
  {
   "cell_type": "code",
   "execution_count": null,
   "id": "d5e81ea2-74db-4cbf-b6bc-8d04717de615",
   "metadata": {},
   "outputs": [],
   "source": [
    "# Validate data\n",
    "from pyspark.sql.functions import count, lit\n",
    "\n",
    "spark.read.parquet(\"dataset/orders_partitioned/\").groupBy(\"order_date\").agg(count(lit(1))).show()"
   ]
  },
  {
   "cell_type": "code",
   "execution_count": null,
   "id": "95ea8831-1b1f-45ed-9d9f-91fa8d18b9ed",
   "metadata": {},
   "outputs": [],
   "source": []
  }
 ],
 "metadata": {
  "kernelspec": {
   "display_name": "Python 3 (ipykernel)",
   "language": "python",
   "name": "python3"
  },
  "language_info": {
   "codemirror_mode": {
    "name": "ipython",
    "version": 3
   },
   "file_extension": ".py",
   "mimetype": "text/x-python",
   "name": "python",
   "nbconvert_exporter": "python",
   "pygments_lexer": "ipython3",
   "version": "3.11.6"
  }
 },
 "nbformat": 4,
 "nbformat_minor": 5
}
