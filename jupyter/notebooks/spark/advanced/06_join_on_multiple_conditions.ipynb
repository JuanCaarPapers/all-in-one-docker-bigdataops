{
 "cells": [
  {
   "cell_type": "markdown",
   "id": "c12d1545-2be5-4d5f-a342-1a782bc932d2",
   "metadata": {},
   "source": [
    "## Writing effective join conditions"
   ]
  },
  {
   "cell_type": "code",
   "execution_count": 1,
   "id": "287407dd-9d2b-4520-9755-fff63f28cb19",
   "metadata": {},
   "outputs": [
    {
     "name": "stderr",
     "output_type": "stream",
     "text": [
      "Setting default log level to \"WARN\".\n",
      "To adjust logging level use sc.setLogLevel(newLevel). For SparkR, use setLogLevel(newLevel).\n",
      "24/10/26 14:28:21 WARN NativeCodeLoader: Unable to load native-hadoop library for your platform... using builtin-java classes where applicable\n"
     ]
    },
    {
     "data": {
      "text/html": [
       "\n",
       "            <div>\n",
       "                <p><b>SparkSession - in-memory</b></p>\n",
       "                \n",
       "        <div>\n",
       "            <p><b>SparkContext</b></p>\n",
       "\n",
       "            <p><a href=\"http://cbedac8cc1fe:4040\">Spark UI</a></p>\n",
       "\n",
       "            <dl>\n",
       "              <dt>Version</dt>\n",
       "                <dd><code>v3.4.3</code></dd>\n",
       "              <dt>Master</dt>\n",
       "                <dd><code>spark://spark-master:7077</code></dd>\n",
       "              <dt>AppName</dt>\n",
       "                <dd><code>Join Condition</code></dd>\n",
       "            </dl>\n",
       "        </div>\n",
       "        \n",
       "            </div>\n",
       "        "
      ],
      "text/plain": [
       "<pyspark.sql.session.SparkSession at 0x7f62c1157890>"
      ]
     },
     "execution_count": 1,
     "metadata": {},
     "output_type": "execute_result"
    }
   ],
   "source": [
    "# Create Spark Session\n",
    "\n",
    "from pyspark.sql import SparkSession\n",
    "\n",
    "spark = SparkSession \\\n",
    "    .builder \\\n",
    "    .appName(\"Join Condition\") \\\n",
    "    .master(\"spark://spark-master:7077\") \\\n",
    "    .getOrCreate()\n",
    "\n",
    "spark"
   ]
  },
  {
   "cell_type": "code",
   "execution_count": 2,
   "id": "33d9bc95-b9be-45c5-b5e8-d33e189b489d",
   "metadata": {},
   "outputs": [],
   "source": [
    "# Create dataset\n",
    "# Employee dataset\n",
    "_emp_data = [\n",
    "    [\"Subham\", \"D01\", 5000, 1],\n",
    "    [\"Rakesh\", \"D02\", 6000, 0],\n",
    "    [\"Rohit\", \"D02\", 7000, 1],\n",
    "    [\"Dinesh\", \"D03\", 10000, 1]\n",
    "]\n",
    "\n",
    "# Employee schema\n",
    "_emp_schema = [\"name\", \"dept_id\", \"salary\", \"active\"]\n",
    "\n",
    "# Department dataset\n",
    "_dept_data = [\n",
    "    [\"D01\", \"Economics\"],\n",
    "    [\"D02\", \"Science\"],\n",
    "    [\"D03\", \"Arts\"]\n",
    "]\n",
    "\n",
    "# Department schema\n",
    "_dept_schema = [\"id\", \"name\"]\n"
   ]
  },
  {
   "cell_type": "code",
   "execution_count": 3,
   "id": "84ecd339-3d5c-4924-88ee-d690c43dc273",
   "metadata": {},
   "outputs": [
    {
     "name": "stderr",
     "output_type": "stream",
     "text": [
      "                                                                                \r"
     ]
    },
    {
     "name": "stdout",
     "output_type": "stream",
     "text": [
      "+------+-------+------+------+\n",
      "|  name|dept_id|salary|active|\n",
      "+------+-------+------+------+\n",
      "|Subham|    D01|  5000|     1|\n",
      "|Rakesh|    D02|  6000|     0|\n",
      "| Rohit|    D02|  7000|     1|\n",
      "|Dinesh|    D03| 10000|     1|\n",
      "+------+-------+------+------+\n",
      "\n"
     ]
    },
    {
     "name": "stderr",
     "output_type": "stream",
     "text": [
      "                                                                                \r"
     ]
    },
    {
     "name": "stdout",
     "output_type": "stream",
     "text": [
      "+---+---------+\n",
      "| id|     name|\n",
      "+---+---------+\n",
      "|D01|Economics|\n",
      "|D02|  Science|\n",
      "|D03|     Arts|\n",
      "+---+---------+\n",
      "\n"
     ]
    }
   ],
   "source": [
    "# Create Employee and Department dataframes\n",
    "# Employee Dataframe\n",
    "df_emp = spark.createDataFrame(data = _emp_data, schema= _emp_schema)\n",
    "df_emp.show()\n",
    "\n",
    "# Department Dataframe\n",
    "df_dept = spark.createDataFrame(data = _dept_data, schema= _dept_schema)\n",
    "df_dept.show()"
   ]
  },
  {
   "cell_type": "code",
   "execution_count": 4,
   "id": "6ba71e0d-a07a-4372-ab24-029f53a62e8c",
   "metadata": {},
   "outputs": [
    {
     "name": "stderr",
     "output_type": "stream",
     "text": [
      "                                                                                \r"
     ]
    },
    {
     "name": "stdout",
     "output_type": "stream",
     "text": [
      "+------+-------+------+------+----+---------+\n",
      "|  name|dept_id|salary|active|  id|     name|\n",
      "+------+-------+------+------+----+---------+\n",
      "|Dinesh|    D03| 10000|     1| D03|     Arts|\n",
      "| Rohit|    D02|  7000|     1| D02|  Science|\n",
      "|Subham|    D01|  5000|     1| D01|Economics|\n",
      "|Rakesh|    D02|  6000|     0|null|     null|\n",
      "+------+-------+------+------+----+---------+\n",
      "\n"
     ]
    }
   ],
   "source": [
    "# Join datasets\n",
    "# Condition 1 = Join Emp and Dept based on dept id and active record\n",
    "\n",
    "# Create a list of conditions\n",
    "join_cond = [df_emp.dept_id == df_dept.id, df_emp.active == 1]\n",
    "\n",
    "df_join_1 = df_emp.join(df_dept, how=\"left_outer\", on=join_cond)\n",
    "df_join_1.show()"
   ]
  },
  {
   "cell_type": "code",
   "execution_count": 5,
   "id": "2f378f4f-db88-4e3f-a0bd-df6eb375e767",
   "metadata": {},
   "outputs": [
    {
     "name": "stdout",
     "output_type": "stream",
     "text": [
      "+------+-------+------+------+---+---------+\n",
      "|  name|dept_id|salary|active| id|     name|\n",
      "+------+-------+------+------+---+---------+\n",
      "|Dinesh|    D03| 10000|     1|D03|     Arts|\n",
      "| Rohit|    D02|  7000|     1|D02|  Science|\n",
      "|Subham|    D01|  5000|     1|D01|Economics|\n",
      "|Rakesh|    D02|  6000|     0|D02|  Science|\n",
      "+------+-------+------+------+---+---------+\n",
      "\n"
     ]
    }
   ],
   "source": [
    "# Condition 2 = Join Emp and Dept based on dept id only\n",
    "\n",
    "df_join_2 = df_emp.join(df_dept, how=\"left_outer\", on=join_cond[0])\n",
    "df_join_2.show()"
   ]
  },
  {
   "cell_type": "code",
   "execution_count": 6,
   "id": "0b67c9ef-6997-4a9e-a25f-5e66adefc034",
   "metadata": {},
   "outputs": [
    {
     "name": "stderr",
     "output_type": "stream",
     "text": [
      "[Stage 22:>                                                         (0 + 1) / 1]\r"
     ]
    },
    {
     "name": "stdout",
     "output_type": "stream",
     "text": [
      "+------+-------+------+------+---+---------+\n",
      "|  name|dept_id|salary|active| id|     name|\n",
      "+------+-------+------+------+---+---------+\n",
      "|Dinesh|    D03| 10000|     1|D03|     Arts|\n",
      "| Rohit|    D02|  7000|     1|D02|  Science|\n",
      "|Subham|    D01|  5000|     1|D01|Economics|\n",
      "|Rakesh|    D02|  6000|     0|D02|  Science|\n",
      "+------+-------+------+------+---+---------+\n",
      "\n"
     ]
    },
    {
     "name": "stderr",
     "output_type": "stream",
     "text": [
      "                                                                                \r"
     ]
    }
   ],
   "source": [
    "# Condition 3 = Join Emp and Dept based on dept id and active record = 1 or salary > 5000\n",
    "\n",
    "# Create a list of conditions\n",
    "join_cond = [df_emp.dept_id == df_dept.id, ((df_emp.active == 1) | (df_emp.salary > 5000))]\n",
    "\n",
    "df_join_3 = df_emp.join(df_dept, how=\"left_outer\", on=join_cond)\n",
    "df_join_3.show()"
   ]
  },
  {
   "cell_type": "code",
   "execution_count": 7,
   "id": "632ab835-8b72-4dc4-a16f-94367667e195",
   "metadata": {},
   "outputs": [
    {
     "name": "stderr",
     "output_type": "stream",
     "text": [
      "[Stage 28:>                                                         (0 + 1) / 1]\r"
     ]
    },
    {
     "name": "stdout",
     "output_type": "stream",
     "text": [
      "+------+-------+------+------+----+-------+\n",
      "|  name|dept_id|salary|active|  id|   name|\n",
      "+------+-------+------+------+----+-------+\n",
      "|Subham|    D01|  5000|     1|null|   null|\n",
      "|Rakesh|    D02|  6000|     0|null|   null|\n",
      "|Dinesh|    D03| 10000|     1| D03|   Arts|\n",
      "| Rohit|    D02|  7000|     1| D02|Science|\n",
      "+------+-------+------+------+----+-------+\n",
      "\n"
     ]
    },
    {
     "name": "stderr",
     "output_type": "stream",
     "text": [
      "                                                                                \r"
     ]
    }
   ],
   "source": [
    "# Condition 4 = Join Emp and Dept based on dept id and active record = 1 and salary > 5000\n",
    "\n",
    "# Create a list of conditions\n",
    "join_cond = [df_emp.dept_id == df_dept.id, df_emp.active == 1, df_emp.salary > 5000]\n",
    "\n",
    "df_join_4 = df_emp.join(df_dept, how=\"left_outer\", on=join_cond)\n",
    "df_join_4.show()"
   ]
  },
  {
   "cell_type": "code",
   "execution_count": 8,
   "id": "b89e895c-f6dd-49b5-889b-d73e0551a516",
   "metadata": {},
   "outputs": [
    {
     "name": "stderr",
     "output_type": "stream",
     "text": [
      "[Stage 34:>                                                         (0 + 1) / 1]\r"
     ]
    },
    {
     "name": "stdout",
     "output_type": "stream",
     "text": [
      "+------+-------+------+------+----+---------+\n",
      "|  name|dept_id|salary|active|  id|     name|\n",
      "+------+-------+------+------+----+---------+\n",
      "|Dinesh|    D03| 10000|     1| D03|     Arts|\n",
      "| Rohit|    D02|  7000|     1| D02|  Science|\n",
      "|Subham|    D01|  5000|     1| D01|Economics|\n",
      "|Rakesh|    D02|  6000|     0|null|     null|\n",
      "+------+-------+------+------+----+---------+\n",
      "\n"
     ]
    },
    {
     "name": "stderr",
     "output_type": "stream",
     "text": [
      "                                                                                \r"
     ]
    }
   ],
   "source": [
    "# Condition 4 = Join Emp and Dept based on dept id and active record = 1\n",
    "# Joining condition\n",
    "join_cond = [df_emp.dept_id == df_dept.id, df_emp.active == 1, df_emp.salary > 5000]\n",
    "\n",
    "df_join_5 = df_emp.join(df_dept, how=\"left_outer\", on=join_cond[:2])\n",
    "df_join_5.show()"
   ]
  },
  {
   "cell_type": "code",
   "execution_count": 9,
   "id": "10180392-558c-4438-8fd3-e13ec8edeb65",
   "metadata": {},
   "outputs": [],
   "source": [
    "spark.stop()"
   ]
  }
 ],
 "metadata": {
  "kernelspec": {
   "display_name": "Python 3 (ipykernel)",
   "language": "python",
   "name": "python3"
  },
  "language_info": {
   "codemirror_mode": {
    "name": "ipython",
    "version": 3
   },
   "file_extension": ".py",
   "mimetype": "text/x-python",
   "name": "python",
   "nbconvert_exporter": "python",
   "pygments_lexer": "ipython3",
   "version": "3.11.6"
  }
 },
 "nbformat": 4,
 "nbformat_minor": 5
}
