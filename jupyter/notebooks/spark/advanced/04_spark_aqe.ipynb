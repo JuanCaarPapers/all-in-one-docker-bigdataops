{
 "cells": [
  {
   "cell_type": "markdown",
   "id": "3208d74d-7bad-45af-adcb-98f61eeefe36",
   "metadata": {},
   "source": [
    "# Spark AQE Coalesce Explained"
   ]
  },
  {
   "cell_type": "code",
   "execution_count": null,
   "id": "9ed56866-a7c3-4704-b332-027cea7527a0",
   "metadata": {},
   "outputs": [],
   "source": [
    "# Create Spark Session\n",
    "\n",
    "from pyspark.sql import SparkSession\n",
    "\n",
    "spark = SparkSession \\\n",
    "    .builder \\\n",
    "    .appName(\"Spark AQE Explained\") \\\n",
    "    .master(\"spark://spark-master:7077\") \\\n",
    "    .getOrCreate()\n",
    "\n",
    "spark"
   ]
  },
  {
   "cell_type": "code",
   "execution_count": null,
   "id": "dff5ae73-3c1d-4ecc-a3eb-00df71cd817f",
   "metadata": {},
   "outputs": [],
   "source": [
    "# Lets check the current spark conf for AQE and shuffle partitions\n",
    "print(spark.conf.get(\"spark.sql.adaptive.enabled\"))\n",
    "print(spark.conf.get(\"spark.sql.adaptive.coalescePartitions.enabled\"))\n",
    "print(spark.conf.get(\"spark.sql.shuffle.partitions\"))\n",
    "print(spark.conf.get(\"spark.sql.adaptive.advisoryPartitionSizeInBytes\")) #approx 64MB Default"
   ]
  },
  {
   "cell_type": "code",
   "execution_count": null,
   "id": "ea877510-6d2a-4fd4-ac82-8f4809cd6e02",
   "metadata": {},
   "outputs": [],
   "source": [
    "# Disable AQE and change Shuffle partition\n",
    "spark.conf.set(\"spark.sql.adaptive.enabled\", False)\n",
    "spark.conf.set(\"spark.sql.adaptive.coalescePartitions.enabled\", False)\n",
    "spark.conf.set(\"spark.sql.shuffle.partitions\", 289)"
   ]
  },
  {
   "cell_type": "code",
   "execution_count": null,
   "id": "7e26e987-4b99-486f-967a-b48e1f7e8c3d",
   "metadata": {},
   "outputs": [],
   "source": [
    "# Read example data set\n",
    "df = spark.read.format(\"csv\").option(\"header\", True).load(\"dataset/sales.csv\")\n",
    "df.printSchema()\n",
    "print(\"Initial Partition after read: \" + str(df.rdd.getNumPartitions()))\n",
    "\n",
    "# GroupBy opeartion to trigger Shuffle\n",
    "from pyspark.sql.functions import sum\n",
    "df_count = df.selectExpr(\"city_id\",\"cast(amount as double) as amount_double\").groupBy(\"city_id\").agg(sum(\"amount_double\"))\n",
    "print(\"Output shuffle partitions: \" + str(df_count.rdd.getNumPartitions()))"
   ]
  },
  {
   "cell_type": "code",
   "execution_count": null,
   "id": "e89b540f-50bd-4dca-ae1c-51fab42a9a7a",
   "metadata": {},
   "outputs": [],
   "source": [
    "# Enable AQE and change Shuffle partition\n",
    "spark.conf.set(\"spark.sql.adaptive.enabled\", True)\n",
    "spark.conf.set(\"spark.sql.adaptive.coalescePartitions.enabled\", True)\n",
    "spark.conf.set(\"spark.sql.shuffle.partitions\", 289)"
   ]
  },
  {
   "cell_type": "code",
   "execution_count": null,
   "id": "d6855bed-c269-4e0a-878c-28d1c2f884b7",
   "metadata": {},
   "outputs": [],
   "source": [
    "# Read example data set\n",
    "df = spark.read.format(\"csv\").option(\"header\", True).load(\"dataset/sales.csv\")\n",
    "df.printSchema()\n",
    "print(\"Initial Partition after read: \" + str(df.rdd.getNumPartitions()))"
   ]
  },
  {
   "cell_type": "code",
   "execution_count": null,
   "id": "3e70abc7-b704-460c-9342-eba6a47147fd",
   "metadata": {},
   "outputs": [],
   "source": [
    "# GroupBy opeartion to trigger Shuffle\n",
    "# Since our output with city_id as group by is smaller than < 64MB thus the data is written in single partiton\n",
    "from pyspark.sql.functions import sum\n",
    "df_count = df.selectExpr(\"city_id\",\"cast(amount as double) as amount_double\").groupBy(\"city_id\").agg(sum(\"amount_double\"))\n",
    "print(\"Output shuffle partitions: \" + str(df_count.rdd.getNumPartitions()))"
   ]
  },
  {
   "cell_type": "code",
   "execution_count": null,
   "id": "54d5fd57-a9c0-4b9c-a806-81c708bc1c45",
   "metadata": {},
   "outputs": [],
   "source": [
    "# GroupBy opeartion to trigger Shuffle but this time with trx_id (which is more unique - thus more data)\n",
    "# Since our output with trx_id as group by is > 64MB thus the data is written in multiple partitions\n",
    "from pyspark.sql.functions import sum\n",
    "df_count = df.selectExpr(\"trx_id\",\"cast(amount as double) as amount_double\").groupBy(\"trx_id\").agg(sum(\"amount_double\"))\n",
    "print(\"Output shuffle partitions: \" + str(df_count.rdd.getNumPartitions()))"
   ]
  },
  {
   "cell_type": "code",
   "execution_count": null,
   "id": "c3c1f9b8-3a07-4f47-a7c5-68b7a7db4d1e",
   "metadata": {},
   "outputs": [],
   "source": []
  }
 ],
 "metadata": {
  "kernelspec": {
   "display_name": "Python 3 (ipykernel)",
   "language": "python",
   "name": "python3"
  },
  "language_info": {
   "codemirror_mode": {
    "name": "ipython",
    "version": 3
   },
   "file_extension": ".py",
   "mimetype": "text/x-python",
   "name": "python",
   "nbconvert_exporter": "python",
   "pygments_lexer": "ipython3",
   "version": "3.11.6"
  }
 },
 "nbformat": 4,
 "nbformat_minor": 5
}
