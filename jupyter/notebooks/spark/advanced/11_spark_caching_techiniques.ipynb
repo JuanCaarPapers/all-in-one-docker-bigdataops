{
 "cells": [
  {
   "cell_type": "code",
   "execution_count": null,
   "id": "323bf5b8-f3f4-4877-a002-42667addfbc0",
   "metadata": {
    "tags": []
   },
   "outputs": [],
   "source": [
    "# Spark Session\n",
    "from pyspark.sql import SparkSession\n",
    "\n",
    "spark = (\n",
    "    SparkSession\n",
    "    .builder\n",
    "    .appName(\"Understand Caching\")\n",
    "    .master(\"spark://spark-master:7077\")\n",
    "    .config(\"spark.executor.memory\", \"512M\")\n",
    "    .getOrCreate()\n",
    ")\n",
    "\n",
    "spark"
   ]
  },
  {
   "cell_type": "code",
   "execution_count": null,
   "id": "4dad8280-2561-4b8e-a1ad-22d68c1fb971",
   "metadata": {
    "tags": []
   },
   "outputs": [],
   "source": [
    "# Read Sales CSV Data - 752MB Size ~ 7.2M Records\n",
    "\n",
    "_schema = \"transacted_at string, trx_id string, retailer_id string, description string, amount double, city_id string\"\n",
    "\n",
    "df = spark.read.format(\"csv\").schema(_schema).option(\"header\", True).load(\"data/input/new_sales.csv\")"
   ]
  },
  {
   "cell_type": "code",
   "execution_count": null,
   "id": "affa9a57-b5d0-4103-aba6-c3b7dd681d0a",
   "metadata": {
    "tags": []
   },
   "outputs": [],
   "source": [
    "df.where(\"amount > 300\").show()"
   ]
  },
  {
   "cell_type": "code",
   "execution_count": null,
   "id": "6a243560-b1c9-470c-a55e-43b89d2c8fc6",
   "metadata": {},
   "outputs": [],
   "source": [
    "# Cache DataFrame (cache or persist)\n",
    "\n",
    "df_cache = df.where(\"amount > 100\").cache()\n"
   ]
  },
  {
   "cell_type": "code",
   "execution_count": null,
   "id": "1b07f256-5026-4b0b-b3df-2d9fd8cc462d",
   "metadata": {
    "tags": []
   },
   "outputs": [],
   "source": [
    "df_cache.count()"
   ]
  },
  {
   "cell_type": "code",
   "execution_count": null,
   "id": "8425d67b-9cf6-482f-9b9f-3b92262dda7f",
   "metadata": {
    "tags": []
   },
   "outputs": [],
   "source": [
    "df.where(\"amount > 50\").show()"
   ]
  },
  {
   "cell_type": "code",
   "execution_count": null,
   "id": "82b44adb-9c11-4029-b86d-04b6f395c967",
   "metadata": {
    "tags": []
   },
   "outputs": [],
   "source": [
    "# MEMORY_ONLY, MEMORY_AND_DISK, MEMORY_ONLY_SER, MEMORY_AND_DISK_SER, DISK_ONLY, MEMORY_ONLY_2, MEMORY_AND_DISK_2\n",
    "import pyspark\n",
    "\n",
    "df_persist = df.persist(pyspark.StorageLevel.MEMORY_ONLY_2)\n"
   ]
  },
  {
   "cell_type": "code",
   "execution_count": null,
   "id": "e5009af8-74c1-450d-ae7f-36e8ae64ef1a",
   "metadata": {
    "tags": []
   },
   "outputs": [],
   "source": [
    "df_persist.write.format(\"noop\").mode(\"overwrite\").save()"
   ]
  },
  {
   "cell_type": "code",
   "execution_count": null,
   "id": "a704050a-93ef-464f-b790-5b82aba08a39",
   "metadata": {},
   "outputs": [],
   "source": [
    "# Remove Cache\n",
    "\n",
    "spark.catalog.clearCache()"
   ]
  },
  {
   "cell_type": "code",
   "execution_count": null,
   "id": "2025bb5d-f522-490c-bf4f-8058cd35d5de",
   "metadata": {},
   "outputs": [],
   "source": []
  }
 ],
 "metadata": {
  "kernelspec": {
   "display_name": "Python 3 (ipykernel)",
   "language": "python",
   "name": "python3"
  },
  "language_info": {
   "codemirror_mode": {
    "name": "ipython",
    "version": 3
   },
   "file_extension": ".py",
   "mimetype": "text/x-python",
   "name": "python",
   "nbconvert_exporter": "python",
   "pygments_lexer": "ipython3",
   "version": "3.11.6"
  }
 },
 "nbformat": 4,
 "nbformat_minor": 5
}
