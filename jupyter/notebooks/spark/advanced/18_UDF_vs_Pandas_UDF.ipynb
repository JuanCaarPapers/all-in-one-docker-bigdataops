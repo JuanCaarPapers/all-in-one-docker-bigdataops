{
 "cells": [
  {
   "cell_type": "code",
   "execution_count": 29,
   "id": "35b290be-a351-4bc6-a898-1341f50af784",
   "metadata": {
    "tags": []
   },
   "outputs": [
    {
     "data": {
      "text/html": [
       "\n",
       "            <div>\n",
       "                <p><b>SparkSession - in-memory</b></p>\n",
       "                \n",
       "        <div>\n",
       "            <p><b>SparkContext</b></p>\n",
       "\n",
       "            <p><a href=\"http://b9eb03d0898c:4040\">Spark UI</a></p>\n",
       "\n",
       "            <dl>\n",
       "              <dt>Version</dt>\n",
       "                <dd><code>v3.4.4</code></dd>\n",
       "              <dt>Master</dt>\n",
       "                <dd><code>spark://spark-master:7077</code></dd>\n",
       "              <dt>AppName</dt>\n",
       "                <dd><code>User Defined Functions</code></dd>\n",
       "            </dl>\n",
       "        </div>\n",
       "        \n",
       "            </div>\n",
       "        "
      ],
      "text/plain": [
       "<pyspark.sql.session.SparkSession at 0x7ff515ca2490>"
      ]
     },
     "execution_count": 29,
     "metadata": {},
     "output_type": "execute_result"
    }
   ],
   "source": [
    "# Spark Session\n",
    "from pyspark.sql import SparkSession\n",
    "\n",
    "spark = (\n",
    "    SparkSession\n",
    "    .builder\n",
    "    .appName(\"User Defined Functions\")\n",
    "    .master(\"spark://spark-master:7077\")\n",
    "    .getOrCreate()\n",
    ")\n",
    "\n",
    "spark"
   ]
  },
  {
   "cell_type": "code",
   "execution_count": 30,
   "id": "bc4f41a3-f668-4458-a9c3-6753585953c8",
   "metadata": {
    "tags": []
   },
   "outputs": [
    {
     "name": "stderr",
     "output_type": "stream",
     "text": [
      "                                                                                \r"
     ]
    }
   ],
   "source": [
    "emp = spark.read.format(\"csv\").option(\"header\", True).option(\"inferSchema\", True).load(\"hdfs://namenode:9000/input/data/employee_records.csv\")"
   ]
  },
  {
   "cell_type": "code",
   "execution_count": 3,
   "id": "7b214d75-5ac5-40e6-ab74-54acf423e698",
   "metadata": {
    "tags": []
   },
   "outputs": [],
   "source": [
    "from pyspark.sql import functions as F\n",
    "import math\n",
    "import numpy as np\n",
    "import pandas as pd\n",
    "\n",
    "def math_complex_operation(dept_id):\n",
    "    return math.floor(math.sin(dept_id) + math.cos(dept_id) + math.exp(dept_id))\n",
    "\n",
    "def np_complex_operation(dept_id: pd.Series) -> pd.Series:\n",
    "    return np.floor(np.sin(dept_id) + np.cos(dept_id) + np.exp(dept_id))\n",
    "\n",
    "python_complex_operation = F.udf(math_complex_operation, \"float\")\n",
    "pandas_complex_operation = F.pandas_udf(np_complex_operation, \"float\")\n",
    "spark_complex_operation = F.floor(F.sqrt(F.col(\"department_id\") + 1))"
   ]
  },
  {
   "cell_type": "code",
   "execution_count": 4,
   "id": "e93265aa-5ef4-4362-8a56-5e6ad7b5f3ea",
   "metadata": {
    "tags": []
   },
   "outputs": [],
   "source": [
    "# Register as UDF\n",
    "from pyspark.sql import functions as F\n",
    "\n",
    "emp_python = emp.withColumn(\"calc\", python_complex_operation(F.col(\"department_id\")))\n",
    "emp_pandas = emp.withColumn(\"calc\", pandas_complex_operation(F.col(\"department_id\")))\n",
    "emp_spark = emp.withColumn(\"calc\", spark_complex_operation)"
   ]
  },
  {
   "cell_type": "code",
   "execution_count": 6,
   "id": "5b4756e1-2853-4746-8c1f-b06abdf3aa4a",
   "metadata": {},
   "outputs": [
    {
     "name": "stderr",
     "output_type": "stream",
     "text": [
      "                                                                                \r"
     ]
    }
   ],
   "source": [
    "emp_python.write.format(\"noop\").mode(\"overwrite\").save()\n",
    "emp_pandas.write.format(\"noop\").mode(\"overwrite\").save()\n",
    "emp_spark.write.format(\"noop\").mode(\"overwrite\").save() "
   ]
  },
  {
   "cell_type": "code",
   "execution_count": 39,
   "id": "d193df62-e256-439f-97cc-640973761bfb",
   "metadata": {},
   "outputs": [],
   "source": [
    "import joblib\n",
    "\n",
    "def row_wise_predict(dept_id):\n",
    "    return int(model_bc.value.predict([[dept_id]])[0])\n",
    "\n",
    "def vectorized_predict(dept_id: pd.Series) -> pd.Series:\n",
    "    return pd.Series(model_bc.value.predict(dept_id.values.reshape(-1,1)))\n",
    "\n",
    "model = joblib.load(\"lr.joblib\")\n",
    "model_bc = spark.sparkContext.broadcast(model)\n",
    "python_predict = F.udf(row_wise_predict, \"int\")\n",
    "pandas_predict = F.pandas_udf(vectorized_predict, \"int\")"
   ]
  },
  {
   "cell_type": "code",
   "execution_count": 40,
   "id": "2c5beaad-4b44-4f16-9d1e-89bbb4607546",
   "metadata": {},
   "outputs": [],
   "source": [
    "emp_python = emp.withColumn(\"pred\", python_predict(F.col(\"department_id\")))\n",
    "emp_pandas = emp.withColumn(\"pred\", pandas_predict(F.col(\"department_id\")))"
   ]
  },
  {
   "cell_type": "code",
   "execution_count": 41,
   "id": "bba4e939-f06d-40c5-a15f-e962c5e61e5a",
   "metadata": {},
   "outputs": [
    {
     "name": "stderr",
     "output_type": "stream",
     "text": [
      "                                                                                \r"
     ]
    }
   ],
   "source": [
    "emp_python.write.format(\"noop\").mode(\"overwrite\").save()\n",
    "emp_pandas.write.format(\"noop\").mode(\"overwrite\").save()"
   ]
  },
  {
   "cell_type": "code",
   "execution_count": 42,
   "id": "fbc45429-3896-4968-9cb5-e77b004cc1ee",
   "metadata": {
    "tags": []
   },
   "outputs": [],
   "source": [
    "# Stop Spark Session\n",
    "\n",
    "spark.stop()"
   ]
  },
  {
   "cell_type": "code",
   "execution_count": null,
   "id": "fef8c770-1dcd-44cb-b3e8-f0cdad80afca",
   "metadata": {},
   "outputs": [],
   "source": []
  }
 ],
 "metadata": {
  "kernelspec": {
   "display_name": "Python 3 (ipykernel)",
   "language": "python",
   "name": "python3"
  },
  "language_info": {
   "codemirror_mode": {
    "name": "ipython",
    "version": 3
   },
   "file_extension": ".py",
   "mimetype": "text/x-python",
   "name": "python",
   "nbconvert_exporter": "python",
   "pygments_lexer": "ipython3",
   "version": "3.11.6"
  }
 },
 "nbformat": 4,
 "nbformat_minor": 5
}
