{
 "cells": [
  {
   "cell_type": "markdown",
   "id": "1ad0c4db-7abf-404b-bdca-9d20f6992fa5",
   "metadata": {},
   "source": [
    "### Optimize huge file read"
   ]
  },
  {
   "cell_type": "code",
   "execution_count": null,
   "id": "fdef6a58-1082-4ba5-bc4a-666bf20ed7db",
   "metadata": {},
   "outputs": [],
   "source": [
    "# Create Spark Session\n",
    "\n",
    "from pyspark.sql import SparkSession\n",
    "\n",
    "spark = SparkSession \\\n",
    "    .builder \\\n",
    "    .appName(\"Optimize huge file reads\") \\\n",
    "    .master(\"spark://spark-master:7077\") \\\n",
    "    .getOrCreate()\n",
    "\n",
    "spark"
   ]
  },
  {
   "cell_type": "code",
   "execution_count": null,
   "id": "bbf81c9b-47a3-4af0-aee6-0c54fbdaf418",
   "metadata": {},
   "outputs": [],
   "source": [
    "# Check the default partition size\n",
    "partition_size = spark.conf.get(\"spark.sql.files.maxPartitionBytes\").replace(\"b\",\"\")\n",
    "print(f\"Partition Size: {partition_size} in bytes and {int(partition_size) / 1024 / 1024} in MB\")"
   ]
  },
  {
   "cell_type": "code",
   "execution_count": null,
   "id": "a57164fa-d074-4c41-9e85-912a53b1a48c",
   "metadata": {},
   "outputs": [],
   "source": [
    "# Check the default parallelism available\n",
    "print(f\"Parallelism : {spark.sparkContext.defaultParallelism}\")"
   ]
  },
  {
   "cell_type": "code",
   "execution_count": null,
   "id": "7aa3f120-34bf-401a-900f-9741aa6cece1",
   "metadata": {},
   "outputs": [],
   "source": [
    "# File size that we are going to import\n",
    "import os\n",
    "file_size = os.path.getsize('dataset/sales_combined_2.csv')\n",
    "print(f\"\"\"Data File Size: \n",
    "            {file_size} in bytes \n",
    "            {int(file_size) / 1024 / 1024} in MB\n",
    "            {int(file_size) / 1024 / 1024 / 1024} in GB\"\"\")"
   ]
  },
  {
   "cell_type": "code",
   "execution_count": null,
   "id": "a5db4b77-afcf-45de-8efc-e6b78a4b0a5e",
   "metadata": {},
   "outputs": [],
   "source": [
    "# Lets read the file and write in noop format for Performance Benchmarking\n",
    "@get_time\n",
    "def x():\n",
    "    df = spark.read.format(\"csv\").option(\"header\", True).load(\"dataset/sales_combined_2.csv\")\n",
    "    print(f\"Number of Partition -> {df.rdd.getNumPartitions()}\")\n",
    "    df.write.format(\"noop\").mode(\"overwrite\").save()"
   ]
  },
  {
   "cell_type": "code",
   "execution_count": null,
   "id": "5379fc09-af7e-447a-8657-84b5c748077a",
   "metadata": {},
   "outputs": [],
   "source": [
    "# Change the default partition size to 3 times to decrease the number of partitions\n",
    "spark.conf.set(\"spark.sql.files.maxPartitionBytes\", str(128 * 3 * 1024 * 1024)+\"b\")\n",
    "\n",
    "# Verify the partition size\n",
    "partition_size = spark.conf.get(\"spark.sql.files.maxPartitionBytes\").replace(\"b\",\"\")\n",
    "print(f\"Partition Size: {partition_size} in bytes and {int(partition_size) / 1024 / 1024} in MB\")"
   ]
  },
  {
   "cell_type": "code",
   "execution_count": null,
   "id": "63b49278-a828-49d5-b2cc-aa0253d29d51",
   "metadata": {},
   "outputs": [],
   "source": [
    "# Lets read the file again with new partition size and write in noop format for Performance Benchmarking\n",
    "@get_time\n",
    "def x():\n",
    "    df = spark.read.format(\"csv\").option(\"header\", True).load(\"dataset/sales_combined_2.csv\")\n",
    "    print(f\"Number of Partition -> {df.rdd.getNumPartitions()}\")\n",
    "    df.write.format(\"noop\").mode(\"overwrite\").save()"
   ]
  },
  {
   "cell_type": "code",
   "execution_count": null,
   "id": "e196defd-3bd1-4ca2-8306-f97c6003bc37",
   "metadata": {},
   "outputs": [],
   "source": [
    "# Change the default partition size to 160 MB to decrease the number of partitions\n",
    "spark.conf.set(\"spark.sql.files.maxPartitionBytes\", str(160 * 1024 * 1024)+\"b\")\n",
    "\n",
    "# Verify the partition size\n",
    "partition_size = spark.conf.get(\"spark.sql.files.maxPartitionBytes\").replace(\"b\",\"\")\n",
    "print(f\"Partition Size: {partition_size} in bytes and {int(partition_size) / 1024 / 1024} in MB\")"
   ]
  },
  {
   "cell_type": "code",
   "execution_count": null,
   "id": "45c98587-2db5-471b-8b93-d042e7aa37b2",
   "metadata": {},
   "outputs": [],
   "source": [
    "# Lets read the file again with new partition size and write in noop format for Performance Benchmarking\n",
    "@get_time\n",
    "def x():\n",
    "    df = spark.read.format(\"csv\").option(\"header\", True).load(\"dataset/sales_combined_2.csv\")\n",
    "    print(f\"Number of Partition -> {df.rdd.getNumPartitions()}\")\n",
    "    df.write.format(\"noop\").mode(\"overwrite\").save()"
   ]
  },
  {
   "cell_type": "code",
   "execution_count": null,
   "id": "b444a989-064a-49b6-b86e-0028d3f431b4",
   "metadata": {},
   "outputs": [],
   "source": [
    "spark.stop()"
   ]
  },
  {
   "cell_type": "code",
   "execution_count": null,
   "id": "4d7b48f7-657a-4d9f-bd76-19c095701061",
   "metadata": {},
   "outputs": [],
   "source": []
  }
 ],
 "metadata": {
  "kernelspec": {
   "display_name": "Python 3 (ipykernel)",
   "language": "python",
   "name": "python3"
  },
  "language_info": {
   "codemirror_mode": {
    "name": "ipython",
    "version": 3
   },
   "file_extension": ".py",
   "mimetype": "text/x-python",
   "name": "python",
   "nbconvert_exporter": "python",
   "pygments_lexer": "ipython3",
   "version": "3.11.6"
  }
 },
 "nbformat": 4,
 "nbformat_minor": 5
}
