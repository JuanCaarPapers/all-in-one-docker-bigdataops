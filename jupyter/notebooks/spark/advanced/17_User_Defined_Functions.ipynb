{
 "cells": [
  {
   "cell_type": "code",
   "execution_count": 13,
   "id": "35b290be-a351-4bc6-a898-1341f50af784",
   "metadata": {
    "tags": []
   },
   "outputs": [],
   "source": [
    "# Spark Session\n",
    "from pyspark.sql import SparkSession\n",
    "\n",
    "spark = (\n",
    "    SparkSession\n",
    "    .builder\n",
    "    .appName(\"User Defined Functions\")\n",
    "    .master(\"spark://spark-master:7077\")\n",
    "    .config(\"spark.executor.cores\", 2)\n",
    "    .config(\"spark.cores.max\", 6)\n",
    "    .config(\"spark.executor.memory\", \"512M\")\n",
    "    .getOrCreate()\n",
    ")\n",
    "\n",
    "spark"
   ]
  },
  {
   "cell_type": "code",
   "execution_count": 15,
   "id": "bc4f41a3-f668-4458-a9c3-6753585953c8",
   "metadata": {
    "tags": []
   },
   "outputs": [],
   "source": [
    "# Read employee data\n",
    "\n",
    "emp_schema = \"employee_id string, department_id string, name string, age string, gender string, salary string, hire_date string\"\n",
    "\n",
    "emp = spark.read.format(\"csv\").option(\"header\", True).schema(emp_schema).load(\"hdfs://namenode:9000/output/03/emp\")\n",
    "\n",
    "emp.rdd.getNumPartitions()"
   ]
  },
  {
   "cell_type": "code",
   "execution_count": 19,
   "id": "7b214d75-5ac5-40e6-ab74-54acf423e698",
   "metadata": {
    "tags": []
   },
   "outputs": [],
   "source": [
    "# Create a function to generate 10% of Salary as Bonus\n",
    "\n",
    "def bonus(salary):\n",
    "    return int(salary) * 0.1"
   ]
  },
  {
   "cell_type": "code",
   "execution_count": 20,
   "id": "e93265aa-5ef4-4362-8a56-5e6ad7b5f3ea",
   "metadata": {
    "tags": []
   },
   "outputs": [],
   "source": [
    "# Register as UDF\n",
    "from pyspark.sql.functions import udf\n",
    "\n",
    "bonus_udf = udf(bonus)\n",
    "\n",
    "spark.udf.register(\"bonus_sql_udf\", bonus, \"double\")\n"
   ]
  },
  {
   "cell_type": "code",
   "execution_count": 24,
   "id": "3d0c32d9-4220-4a74-9752-34d28e9cde30",
   "metadata": {
    "tags": []
   },
   "outputs": [],
   "source": [
    "# Create new column as bonus using UDF\n",
    "from pyspark.sql.functions import expr\n",
    "\n",
    "emp.withColumn(\"bonus\", expr(\"bonus_sql_udf(salary)\")).show()"
   ]
  },
  {
   "cell_type": "code",
   "execution_count": 25,
   "id": "d8d8e6be-7973-4d44-922a-0672143fd511",
   "metadata": {
    "tags": []
   },
   "outputs": [],
   "source": [
    "# Create new column as bonus without UDF\n",
    "\n",
    "emp.withColumn(\"bonus\", expr(\"salary * 0.1\")).show()"
   ]
  },
  {
   "cell_type": "code",
   "execution_count": 26,
   "id": "fbc45429-3896-4968-9cb5-e77b004cc1ee",
   "metadata": {
    "tags": []
   },
   "outputs": [],
   "source": [
    "# Stop Spark Session\n",
    "\n",
    "spark.stop()"
   ]
  },
  {
   "cell_type": "code",
   "execution_count": null,
   "id": "fef8c770-1dcd-44cb-b3e8-f0cdad80afca",
   "metadata": {},
   "outputs": [],
   "source": []
  }
 ],
 "metadata": {
  "kernelspec": {
   "display_name": "Python 3 (ipykernel)",
   "language": "python",
   "name": "python3"
  },
  "language_info": {
   "codemirror_mode": {
    "name": "ipython",
    "version": 3
   },
   "file_extension": ".py",
   "mimetype": "text/x-python",
   "name": "python",
   "nbconvert_exporter": "python",
   "pygments_lexer": "ipython3",
   "version": "3.11.6"
  }
 },
 "nbformat": 4,
 "nbformat_minor": 5
}
