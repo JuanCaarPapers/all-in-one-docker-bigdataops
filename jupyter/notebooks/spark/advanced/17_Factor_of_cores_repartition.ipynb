{
 "cells": [
  {
   "cell_type": "markdown",
   "id": "4a150dca-93a8-4e9a-b839-27f71692950e",
   "metadata": {},
   "source": [
    "## Core Factors"
   ]
  },
  {
   "cell_type": "code",
   "execution_count": null,
   "id": "a02bd5c9-a6dc-4479-b04e-be01bec67510",
   "metadata": {},
   "outputs": [],
   "source": [
    "# Create Spark Session\n",
    "\n",
    "from pyspark.sql import SparkSession\n",
    "\n",
    "spark = SparkSession \\\n",
    "    .builder \\\n",
    "    .appName(\"Factor of cores\") \\\n",
    "    .master(\"spark://spark-master:7077\") \\\n",
    "    .getOrCreate()\n",
    "\n",
    "spark"
   ]
  },
  {
   "cell_type": "code",
   "execution_count": null,
   "id": "b5f8962d-9dcf-4644-a11f-66e925953c10",
   "metadata": {},
   "outputs": [],
   "source": [
    "# Determine the degree of parallelism\n",
    "spark.sparkContext.defaultParallelism"
   ]
  },
  {
   "cell_type": "code",
   "execution_count": null,
   "id": "2cc502bd-6868-4943-9c2e-1bb3d6b5dffe",
   "metadata": {},
   "outputs": [],
   "source": [
    "# Disable all AQE optimization for benchmarking tests\n",
    "spark.conf.set(\"spark.sql.adaptive.enabled\", False)\n",
    "spark.conf.set(\"spark.sql.adaptive.localShuffleReader.enabled\", False)\n",
    "spark.conf.set(\"spark.sql.adaptive.coalescePartitions.enabled\", False)"
   ]
  },
  {
   "cell_type": "code",
   "execution_count": null,
   "id": "50c742be-61e9-41a1-b80c-1062aeda92ab",
   "metadata": {},
   "outputs": [],
   "source": [
    "# Define shuffle partitions which is not Factor of core\n",
    "spark.conf.set(\"spark.sql.shuffle.partitions\", 9)"
   ]
  },
  {
   "cell_type": "code",
   "execution_count": null,
   "id": "98850cc8-36ed-463b-a497-406f8e132ebf",
   "metadata": {},
   "outputs": [],
   "source": [
    "# Define shuffle partitions which is not Factor of core - 8 e.g 13\n",
    "from pyspark.sql.functions import count, lit\n",
    "\n",
    "@get_time\n",
    "def x(): \n",
    "    df = spark.read.format(\"parquet\").load(\"dataset/sales.parquet/\")\n",
    "    df.groupBy(\"trx_id\").agg(count(lit(1))).write.format(\"noop\").mode(\"overwrite\").save()"
   ]
  },
  {
   "cell_type": "code",
   "execution_count": null,
   "id": "f1a7f20f-0aab-42b2-b252-6ddd371ed6f1",
   "metadata": {},
   "outputs": [],
   "source": [
    "# Not repartitiong with factor\n",
    "spark.read.format(\"parquet\").load(\"dataset/sales.parquet/\").repartition(9).write.format(\"noop\").mode(\"overwrite\").save()"
   ]
  },
  {
   "cell_type": "code",
   "execution_count": null,
   "id": "ecf93324-30c3-4345-b41e-cdc0d35e3d4e",
   "metadata": {},
   "outputs": [],
   "source": [
    "# Repartitiong based on factor of cores\n",
    "spark.read.format(\"parquet\").load(\"dataset/sales.parquet/\").repartition(8).write.format(\"noop\").mode(\"overwrite\").save()"
   ]
  },
  {
   "cell_type": "code",
   "execution_count": null,
   "id": "1d74c0d5-eaef-4386-a4c7-6160a18d5ca5",
   "metadata": {},
   "outputs": [],
   "source": []
  }
 ],
 "metadata": {
  "kernelspec": {
   "display_name": "Python 3 (ipykernel)",
   "language": "python",
   "name": "python3"
  },
  "language_info": {
   "codemirror_mode": {
    "name": "ipython",
    "version": 3
   },
   "file_extension": ".py",
   "mimetype": "text/x-python",
   "name": "python",
   "nbconvert_exporter": "python",
   "pygments_lexer": "ipython3",
   "version": "3.11.6"
  }
 },
 "nbformat": 4,
 "nbformat_minor": 5
}
