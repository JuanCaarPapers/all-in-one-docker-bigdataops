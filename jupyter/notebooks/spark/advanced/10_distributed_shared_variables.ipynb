{
 "cells": [
  {
   "cell_type": "code",
   "execution_count": null,
   "id": "afb43c0d-9a97-4450-bc56-def3d467c841",
   "metadata": {
    "tags": []
   },
   "outputs": [],
   "source": [
    "# Spark Session\n",
    "from pyspark.sql import SparkSession\n",
    "\n",
    "spark = (\n",
    "    SparkSession\n",
    "    .builder\n",
    "    .appName(\"Distributed Shared Variables\")\n",
    "    .master(\"spark://spark-master:7077\")\n",
    "    .config(\"spark.cores.max\", 16)\n",
    "    .config(\"spark.executor.cores\", 4)\n",
    "    .config(\"spark.executor.memory\", \"512M\")\n",
    "    .getOrCreate()\n",
    ")\n",
    "\n",
    "spark"
   ]
  },
  {
   "cell_type": "code",
   "execution_count": null,
   "id": "fd7162a3-bd81-4cb8-a66d-b3ab2e6452cf",
   "metadata": {
    "tags": []
   },
   "outputs": [],
   "source": [
    "# Read EMP CSV data\n",
    "\n",
    "_schema = \"first_name string, last_name string, job_title string, dob string, email string, phone string, salary double, department_id int\"\n",
    "\n",
    "emp = spark.read.format(\"csv\").schema(_schema).option(\"header\", True).load(\"/data/input/datasets/employee_records.csv\")"
   ]
  },
  {
   "cell_type": "code",
   "execution_count": null,
   "id": "b2e3403a-98d1-4a8b-a7fb-fe12d1d5aaa9",
   "metadata": {
    "tags": []
   },
   "outputs": [],
   "source": [
    "# Variable (Lookup)\n",
    "dept_names = {1 : 'Department 1', \n",
    "              2 : 'Department 2', \n",
    "              3 : 'Department 3', \n",
    "              4 : 'Department 4',\n",
    "              5 : 'Department 5', \n",
    "              6 : 'Department 6', \n",
    "              7 : 'Department 7', \n",
    "              8 : 'Department 8', \n",
    "              9 : 'Department 9', \n",
    "              10 : 'Department 10'}\n"
   ]
  },
  {
   "cell_type": "code",
   "execution_count": null,
   "id": "66b68f50-76c7-44a7-9424-8d6cb8f53f6e",
   "metadata": {
    "tags": []
   },
   "outputs": [],
   "source": [
    "# Broadcast the variable\n",
    "\n",
    "broadcast_dept_names = spark.sparkContext.broadcast(dept_names)"
   ]
  },
  {
   "cell_type": "code",
   "execution_count": null,
   "id": "85cbe6b7-6be6-4234-8496-fcb1ca580967",
   "metadata": {
    "tags": []
   },
   "outputs": [],
   "source": [
    "# Check the value of the variable\n",
    "broadcast_dept_names.value\n"
   ]
  },
  {
   "cell_type": "code",
   "execution_count": null,
   "id": "59026f44-efd6-456f-8c6e-c8c48258eaea",
   "metadata": {
    "tags": []
   },
   "outputs": [],
   "source": [
    "# Create UDF to return Department name\n",
    "\n",
    "from pyspark.sql.functions import udf, col\n",
    "\n",
    "@udf\n",
    "def get_dept_names(dept_id):\n",
    "    return broadcast_dept_names.value.get(dept_id)"
   ]
  },
  {
   "cell_type": "code",
   "execution_count": null,
   "id": "1d3a641e-3c29-43ce-850a-632a62a6eb6a",
   "metadata": {
    "tags": []
   },
   "outputs": [],
   "source": [
    "emp_final = emp.withColumn(\"dept_name\", get_dept_names(col(\"department_id\")))"
   ]
  },
  {
   "cell_type": "code",
   "execution_count": null,
   "id": "5ea98339-6beb-4185-a2f3-dbac6432e398",
   "metadata": {
    "tags": []
   },
   "outputs": [],
   "source": [
    "emp_final.show()"
   ]
  },
  {
   "cell_type": "code",
   "execution_count": null,
   "id": "dbf4382e-9242-43f8-beb8-642009e2d2ad",
   "metadata": {
    "tags": []
   },
   "outputs": [],
   "source": [
    "# Calculate total salary of Department 6\n",
    "\n",
    "from pyspark.sql.functions import sum\n",
    "\n",
    "emp.where(\"department_id = 6\").groupBy(\"department_id\").agg(sum(\"salary\").cast(\"long\")).show()"
   ]
  },
  {
   "cell_type": "code",
   "execution_count": null,
   "id": "9a0e2ea1-30df-48ca-86b6-324965c11231",
   "metadata": {
    "tags": []
   },
   "outputs": [],
   "source": [
    "# Accumulators\n",
    "\n",
    "dept_sal = spark.sparkContext.accumulator(0)"
   ]
  },
  {
   "cell_type": "code",
   "execution_count": null,
   "id": "7869fe6c-3faf-4d1d-8a61-0e2f8195fddd",
   "metadata": {
    "tags": []
   },
   "outputs": [],
   "source": [
    "# Use foreach\n",
    "\n",
    "def calculate_salary(department_id, salary):\n",
    "    if department_id == 6:\n",
    "        dept_sal.add(salary)\n",
    "\n",
    "emp.foreach(lambda row : calculate_salary(row.department_id, row.salary))"
   ]
  },
  {
   "cell_type": "code",
   "execution_count": null,
   "id": "32edccb1-ccbc-422c-9c48-c36460379d9d",
   "metadata": {
    "tags": []
   },
   "outputs": [],
   "source": [
    "# View total value\n",
    "\n",
    "dept_sal.value"
   ]
  },
  {
   "cell_type": "code",
   "execution_count": null,
   "id": "9b244fce-7fdd-4192-a15f-06eba55eda78",
   "metadata": {
    "tags": []
   },
   "outputs": [],
   "source": [
    "# Stop Spark Session\n",
    "\n",
    "spark.stop()"
   ]
  },
  {
   "cell_type": "code",
   "execution_count": null,
   "id": "fe39a7e9-5eae-4181-a536-876c2181a75b",
   "metadata": {},
   "outputs": [],
   "source": []
  }
 ],
 "metadata": {
  "kernelspec": {
   "display_name": "Python 3 (ipykernel)",
   "language": "python",
   "name": "python3"
  },
  "language_info": {
   "codemirror_mode": {
    "name": "ipython",
    "version": 3
   },
   "file_extension": ".py",
   "mimetype": "text/x-python",
   "name": "python",
   "nbconvert_exporter": "python",
   "pygments_lexer": "ipython3",
   "version": "3.11.6"
  }
 },
 "nbformat": 4,
 "nbformat_minor": 5
}
