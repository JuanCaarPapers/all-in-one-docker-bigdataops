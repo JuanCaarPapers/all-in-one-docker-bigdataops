{
 "cells": [
  {
   "cell_type": "code",
   "execution_count": 27,
   "metadata": {},
   "outputs": [],
   "source": [
    "from pyspark.sql import SparkSession\n",
    "import pyspark.sql.functions as F\n",
    "from pyspark.sql.window import Window\n",
    "\n",
    "\n",
    "\n",
    "spark = SparkSession \\\n",
    "    .builder \\\n",
    "    .master(\"spark://spark-master:7077\") \\\n",
    "    .appName(\"ejemplo_DF\") \\\n",
    "    .getOrCreate()\n",
    "\n",
    "df = spark.read\\\n",
    " .option(\"header\", \"true\")\\\n",
    " .csv(\"hdfs://namenode:9000/input/data/bus_trips.csv\")\n",
    "\n",
    "# Filter for only regular services\n",
    "df = df.filter(F.col(\"trip_type\") == \"regular\")"
   ]
  },
  {
   "cell_type": "code",
   "execution_count": 18,
   "metadata": {},
   "outputs": [
    {
     "data": {
      "text/plain": [
       "0"
      ]
     },
     "execution_count": 18,
     "metadata": {},
     "output_type": "execute_result"
    }
   ],
   "source": [
    "df.groupby(\"trip_code\").count().filter(F.col(\"count\") > 1).count()"
   ]
  },
  {
   "cell_type": "code",
   "execution_count": 21,
   "metadata": {},
   "outputs": [
    {
     "data": {
      "text/plain": [
       "2327"
      ]
     },
     "execution_count": 21,
     "metadata": {},
     "output_type": "execute_result"
    }
   ],
   "source": [
    "df.groupby(\"line_number\").count().filter(F.col(\"count\") > 0).count()"
   ]
  },
  {
   "cell_type": "code",
   "execution_count": 28,
   "metadata": {},
   "outputs": [
    {
     "name": "stderr",
     "output_type": "stream",
     "text": [
      "                                                                                \r"
     ]
    }
   ],
   "source": [
    "from pyspark.sql.window import Window\n",
    "\n",
    "w = Window.partitionBy(\"line_number\")\n",
    "\n",
    "# Convert necessary columns to numeric types\n",
    "df = df.withColumn(\"trip_duration_hours\", F.coalesce(F.col(\"trip_duration_hours\"), F.avg(\"trip_duration_hours\").over(w)).cast(\"float\")) \\\n",
    "       .withColumn(\"delay_start_minutes\", F.coalesce(F.col(\"delay_start_minutes\"), F.lit(0)).cast(\"float\")) \\\n",
    "       .withColumn(\"delay_end_minutes\", F.coalesce(F.col(\"delay_end_minutes\"), F.lit(0)).cast(\"float\")) \\\n",
    "       .withColumn(\"travelled_distance_km\", F.coalesce(F.col(\"travelled_distance_km\"), F.avg(\"trip_duration_hours\").over(w)).cast(\"float\"))\n",
    "\n",
    "# Calculate total delay, delay percentage, and average speed\n",
    "df = df.withColumn(\"total_delay_minutes\", F.col(\"delay_start_minutes\") + F.col(\"delay_end_minutes\")) \\\n",
    "       .withColumn(\"delay_percentage\", (F.col(\"total_delay_minutes\") / (F.col(\"trip_duration_hours\") * 60)) * 100) \\\n",
    "       .withColumn(\"speed_kmh\", F.round(F.col(\"travelled_distance_km\") / F.col(\"trip_duration_hours\"), 2))\n",
    "\n",
    "# Fake the dates. If year 2020 we use month = 8 If year 2019, month = 7 and drop year\n",
    "df = df.withColumn(\"month\", F.when(F.col(\"year\") == 2019, 7).otherwise(8))\n",
    "df = df.withColumn(\"year\", F.lit(2024))\n",
    "df = df.withColumn(\"date\", F.make_date(F.col(\"year\"), F.col(\"month\"), F.col(\"day\")))\n",
    "df = df.drop(\"trip_type\", \"year\", \"day\")\n",
    "\n",
    "# Save the intermediate table with partitioning by `day`\n",
    "df.coalesce(1).write.mode(\"overwrite\").partitionBy(\"date\").bucketBy(4, \"line_number\").format(\"parquet\").option(\"path\", \"hdfs://namenode:9000/output/bus_trips/intermediate\").saveAsTable(\"intermediate\")"
   ]
  },
  {
   "cell_type": "code",
   "execution_count": 24,
   "metadata": {},
   "outputs": [
    {
     "name": "stderr",
     "output_type": "stream",
     "text": [
      "                                                                                \r"
     ]
    },
    {
     "name": "stdout",
     "output_type": "stream",
     "text": [
      "+--------+-----------+--------------------+\n",
      "| company|line_number|            line_key|\n",
      "+--------+-----------+--------------------+\n",
      "|808be8bd|   7d1c7a7b|    FORTALEZA-RECIFE|\n",
      "|1c31a7b3|   9cf36911| CARANGOLA-ITAPERUNA|\n",
      "|1dffde3c|   e8acc322|RIO DE JANEIRO-VA...|\n",
      "|94179ee0|   3435ac8b|TEOFILO OTONI-VIT...|\n",
      "|1dffde3c|   98d99196|APARECIDA-VOLTA R...|\n",
      "|68f76547|   148fbe87|BELO HORIZONTE-CO...|\n",
      "|bf040c87|   9afa9729| CURITIBA-RIO DO SUL|\n",
      "|bf040c87|   57776c2b|   BLUMENAU-CURITIBA|\n",
      "|94179ee0|   cb59a396|GOVERNADOR VALADA...|\n",
      "|d7951af4|   4ef44285|  FORTALEZA-TERESINA|\n",
      "|95480e8f|   c2583349|    CAMPINAS-MARINGA|\n",
      "|a4b92c82|   c0c0f650|  GOIANIA-UBERLANDIA|\n",
      "|a4b92c82|   0cd593a5|     GOIANIA-UBERABA|\n",
      "|808be8bd|   2879bded|CAMPINA GRANDE-FO...|\n",
      "|94179ee0|   3c150c3f|LINHARES-TEIXEIRA...|\n",
      "|9bcede42|   fb2e26bd|   DOURADOS-LONDRINA|\n",
      "|bf040c87|   a82134b3|FLORIANOPOLIS-SAO...|\n",
      "|68f76547|   e8905f50|ITAPETINGA-RIO DE...|\n",
      "|663c9c5c|   56fb9224|ANDRELANDIA-SAO P...|\n",
      "|975b6e95|   d9dc491d|   ALFENAS-SAO PAULO|\n",
      "+--------+-----------+--------------------+\n",
      "only showing top 20 rows\n",
      "\n"
     ]
    }
   ],
   "source": [
    "# Create a standardized key for each line to combine two-way trips\n",
    "df_lines = df.withColumn(\"line_key\", F.when(F.col(\"origin\") < F.col(\"destination\"),\n",
    "                                            F.concat_ws(\"-\", F.col(\"origin\"), F.col(\"destination\")))\n",
    "                                 .otherwise(F.concat_ws(\"-\", F.col(\"destination\"), F.col(\"origin\"))))\n",
    "\n",
    "# Aggregate data to keep only unique two-way records per line\n",
    "lines_df = df_lines.select(\"company\", \"line_number\", \"line_key\").distinct()\n",
    "\n",
    "# Save this as a second intermediate table\n",
    "lines_df.write.mode(\"overwrite\").parquet(\"hdfs://namenode:9000/output/bus_trips/lines\")\n",
    "\n",
    "# Show results for verification\n",
    "lines_df.show()"
   ]
  },
  {
   "cell_type": "code",
   "execution_count": 6,
   "metadata": {},
   "outputs": [
    {
     "data": {
      "text/plain": [
       "2328"
      ]
     },
     "execution_count": 6,
     "metadata": {},
     "output_type": "execute_result"
    }
   ],
   "source": [
    "lines_df.count()"
   ]
  },
  {
   "cell_type": "code",
   "execution_count": 29,
   "metadata": {},
   "outputs": [
    {
     "name": "stderr",
     "output_type": "stream",
     "text": [
      "24/10/27 21:23:44 ERROR StandaloneSchedulerBackend: Application has been killed. Reason: Master removed our application: KILLED\n",
      "24/10/27 21:23:44 ERROR Inbox: Ignoring error\n",
      "org.apache.spark.SparkException: Exiting due to error from cluster scheduler: Master removed our application: KILLED\n",
      "\tat org.apache.spark.errors.SparkCoreErrors$.clusterSchedulerError(SparkCoreErrors.scala:291)\n",
      "\tat org.apache.spark.scheduler.TaskSchedulerImpl.error(TaskSchedulerImpl.scala:978)\n",
      "\tat org.apache.spark.scheduler.cluster.StandaloneSchedulerBackend.dead(StandaloneSchedulerBackend.scala:165)\n",
      "\tat org.apache.spark.deploy.client.StandaloneAppClient$ClientEndpoint.markDead(StandaloneAppClient.scala:263)\n",
      "\tat org.apache.spark.deploy.client.StandaloneAppClient$ClientEndpoint$$anonfun$receive$1.applyOrElse(StandaloneAppClient.scala:170)\n",
      "\tat org.apache.spark.rpc.netty.Inbox.$anonfun$process$1(Inbox.scala:115)\n",
      "\tat org.apache.spark.rpc.netty.Inbox.safelyCall(Inbox.scala:213)\n",
      "\tat org.apache.spark.rpc.netty.Inbox.process(Inbox.scala:100)\n",
      "\tat org.apache.spark.rpc.netty.MessageLoop.org$apache$spark$rpc$netty$MessageLoop$$receiveLoop(MessageLoop.scala:75)\n",
      "\tat org.apache.spark.rpc.netty.MessageLoop$$anon$1.run(MessageLoop.scala:41)\n",
      "\tat java.base/java.util.concurrent.ThreadPoolExecutor.runWorker(ThreadPoolExecutor.java:1128)\n",
      "\tat java.base/java.util.concurrent.ThreadPoolExecutor$Worker.run(ThreadPoolExecutor.java:628)\n",
      "\tat java.base/java.lang.Thread.run(Thread.java:829)\n"
     ]
    }
   ],
   "source": [
    "df = spark.read.parquet(\"hdfs://namenode:9000/output/bus_trips/intermediate\")\n",
    "\n",
    "# Define a window across all lines for comparison\n",
    "window_spec = Window.partitionBy(\"line_number\").rowsBetween(Window.unboundedPreceding, 0)\n",
    "\n",
    "df = df.groupby(\"date\", \"line_number\").agg(\n",
    "    F.avg(\"delay_percentage\").alias(\"delay_percentage\"),\n",
    "    F.avg(\"trip_duration_hours\").alias(\"trip_duration_hours\"),\n",
    ")\n",
    "# Join overall statistics with trip summary and calculate ratios\n",
    "trip_summary_ratios_df = df.withColumn(\"avg_delay_ratio\", F.col(\"delay_percentage\") / F.avg(\"delay_percentage\").over(window_spec)) \\\n",
    "                           .withColumn(\"max_delay_ratio\", F.col(\"delay_percentage\") / F.max(\"delay_percentage\").over(window_spec)) \\\n",
    "                           .withColumn(\"avg_trip_duration_hours\", F.col(\"trip_duration_hours\") / F.avg(\"trip_duration_hours\").over(window_spec))\\\n",
    "                           .withColumn(\"max_trip_duration_hours\", F.col(\"trip_duration_hours\") / F.max(\"trip_duration_hours\").over(window_spec))\n",
    "\n",
    "trip_summary_ratios_df = trip_summary_ratios_df.drop(\"delay_percentage\", \"trip_duration_hours\")\n",
    "\n",
    "# Save results as the final output\n",
    "trip_summary_ratios_df.write.partitionBy(\"date\").mode(\"overwrite\").parquet(\"hdfs://namenode:9000/output/bus_trips/stats\")"
   ]
  },
  {
   "cell_type": "code",
   "execution_count": 8,
   "metadata": {},
   "outputs": [
    {
     "name": "stderr",
     "output_type": "stream",
     "text": [
      "                                                                                \r"
     ]
    },
    {
     "data": {
      "text/plain": [
       "35516"
      ]
     },
     "execution_count": 8,
     "metadata": {},
     "output_type": "execute_result"
    }
   ],
   "source": [
    "trip_summary_ratios_df.count()"
   ]
  },
  {
   "cell_type": "code",
   "execution_count": 11,
   "metadata": {},
   "outputs": [
    {
     "name": "stderr",
     "output_type": "stream",
     "text": [
      "[Stage 38:===>                                                    (1 + 15) / 16]\r"
     ]
    },
    {
     "name": "stdout",
     "output_type": "stream",
     "text": [
      "+----------+-----------+--------------------+--------------------+-----------------------+-----------------------+\n",
      "|      date|line_number|     avg_delay_ratio|     max_delay_ratio|avg_trip_duration_hours|max_trip_duration_hours|\n",
      "+----------+-----------+--------------------+--------------------+-----------------------+-----------------------+\n",
      "|2024-08-18|   000cfbc6|-2.14241513705786...|-2.14241513705786...|     0.8206744409596496|    0.29435483211967384|\n",
      "|2024-08-03|   000cfbc6|0.039168163744122575|0.039168163744122575|     0.8546818490119048|    0.30655241545898365|\n",
      "|2024-08-29|   000cfbc6| 0.30704400634318335| 0.30704400634318335|     0.1840896380990262|      0.066028222414538|\n",
      "|2024-08-16|   000cfbc6|-0.00852008703537...|-0.00852008703537...|     1.0356799015148972|     0.3714717655683966|\n",
      "|2024-08-06|   000cfbc6|-0.00232726779529...|-0.00232726779529...|     0.9211508388142824|    0.33039313396797537|\n",
      "|2024-08-13|   000cfbc6|-5.64202669274409...|-5.64202669274409...|     2.7880447385555187|                    1.0|\n",
      "|2024-08-14|   000cfbc6|-0.00224503223636...|-0.00224503223636...|      0.849482385466649|     0.3046875015021332|\n",
      "|2024-08-07|   000cfbc6|-0.00189264518556...|-0.00189264518556...|     0.9583903621264015|    0.34374999399146733|\n",
      "|2024-08-09|   000cfbc6|-5.60095951426132...|-5.60095951426132...|     0.9176376977308738|     0.3291330605427445|\n",
      "|2024-08-02|   000cfbc6|  27.635272308912175|  27.635272308912175|     0.6690815465063991|     0.2399823565431913|\n",
      "|2024-08-12|   000cfbc6| 0.03682654389742167| 0.03682654389742167|     1.8577596726169652|     0.6663306534957066|\n",
      "|2024-08-27|   000cfbc6|-0.00121096332297...|-0.00121096332297...|      0.990360123557234|     0.3552167258515148|\n",
      "|2024-08-15|   000cfbc6|0.012741294294241548|0.012741294294241548|     0.7721928125740375|    0.27696571790813845|\n",
      "|2024-08-04|   000cfbc6|-0.00218008671666...|-0.00218008671666...|     1.0195193587196931|     0.3656753941645515|\n",
      "|2024-08-30|   000cfbc6|-0.00154611913907013|-0.00154611913907013|     0.9169350829158385|     0.3288810506645245|\n",
      "|2024-08-17|   000cfbc6|-0.00321739668373...|-0.00321739668373...|     0.7630586077858438|     0.2736895133831974|\n",
      "|2024-08-01|   000cfbc6|-0.00180917973096...|-0.00180917973096...|      0.938716644743673|     0.3366935371453259|\n",
      "|2024-08-05|   000cfbc6| -0.0040929974098786| -0.0040929974098786|     0.8206744744637655|     0.2943548441367392|\n",
      "|2024-08-24|   000cfbc6|-0.00163574736550...|-0.00163574736550...|     0.9380140634327536|     0.3364415392841713|\n",
      "|2024-08-21|   000cfbc6|-0.00198554927049...|-0.00198554927049...|     0.9246640134018068|    0.33165321941027165|\n",
      "+----------+-----------+--------------------+--------------------+-----------------------+-----------------------+\n",
      "only showing top 20 rows\n",
      "\n"
     ]
    },
    {
     "name": "stderr",
     "output_type": "stream",
     "text": [
      "                                                                                \r"
     ]
    }
   ],
   "source": [
    "trip_summary_ratios_df.show()"
   ]
  },
  {
   "cell_type": "code",
   "execution_count": null,
   "metadata": {},
   "outputs": [],
   "source": []
  }
 ],
 "metadata": {
  "kernelspec": {
   "display_name": "Python 3 (ipykernel)",
   "language": "python",
   "name": "python3"
  },
  "language_info": {
   "codemirror_mode": {
    "name": "ipython",
    "version": 3
   },
   "file_extension": ".py",
   "mimetype": "text/x-python",
   "name": "python",
   "nbconvert_exporter": "python",
   "pygments_lexer": "ipython3",
   "version": "3.11.6"
  }
 },
 "nbformat": 4,
 "nbformat_minor": 4
}
