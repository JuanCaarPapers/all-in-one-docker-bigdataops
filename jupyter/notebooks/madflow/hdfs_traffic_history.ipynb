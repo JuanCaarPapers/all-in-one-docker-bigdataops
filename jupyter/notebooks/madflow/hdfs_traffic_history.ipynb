{
 "cells": [
  {
   "cell_type": "code",
   "execution_count": null,
   "id": "8f455d98-34eb-406c-a899-a4baff1e001d",
   "metadata": {},
   "outputs": [],
   "source": [
    "import requests\n",
    "import zipfile\n",
    "import os\n",
    "\n",
    "output_dir = \"/home/jovyan/notebooks/madflow/traffic\"\n",
    "\n",
    "# From 09/2021 to 10/2024\n",
    "for i in range(100, 138):\n",
    "    url = f\"https://datos.madrid.es/egob/catalogo/208627-{i}-transporte-ptomedida-historico.zip\"\n",
    "\n",
    "    # Ensure the output directory exists\n",
    "    os.makedirs(output_dir, exist_ok=True)\n",
    "    \n",
    "    # File name for the downloaded ZIP\n",
    "    zip_path = os.path.join(output_dir, \"temp_download.zip\")\n",
    "    \n",
    "    try:\n",
    "        # Download the ZIP file\n",
    "        response = requests.get(url, stream=True)\n",
    "        response.raise_for_status()  # Raise an error for bad status codes\n",
    "\n",
    "        # Save the ZIP file locally\n",
    "        with open(zip_path, \"wb\") as f:\n",
    "            for chunk in response.iter_content(chunk_size=8192):\n",
    "                f.write(chunk)\n",
    "\n",
    "        # Extract the ZIP file\n",
    "        with zipfile.ZipFile(zip_path, \"r\") as zip_ref:\n",
    "            zip_ref.extractall(output_dir)\n",
    "\n",
    "    finally:\n",
    "        # Clean up the temporary ZIP file\n",
    "        if os.path.exists(zip_path):\n",
    "            os.remove(zip_path)"
   ]
  },
  {
   "cell_type": "code",
   "execution_count": 8,
   "id": "6b80f8f4-66ac-4153-b1d8-513c93bd5535",
   "metadata": {},
   "outputs": [
    {
     "data": {
      "text/plain": [
       "'/input/madflow/traffic/history'"
      ]
     },
     "execution_count": 8,
     "metadata": {},
     "output_type": "execute_result"
    }
   ],
   "source": [
    "# LOAD LOCAL FILES INTO HADOOP\n",
    "from hdfs import InsecureClient\n",
    "\n",
    "client = InsecureClient('http://namenode:9870')\n",
    "client.upload('/input/madflow/traffic/history', '/home/jovyan/notebooks/madflow/traffic', overwrite=True)"
   ]
  },
  {
   "cell_type": "code",
   "execution_count": 4,
   "id": "6f641345-230a-4212-a7a6-381d621aa939",
   "metadata": {},
   "outputs": [
    {
     "data": {
      "text/html": [
       "<div>\n",
       "<style scoped>\n",
       "    .dataframe tbody tr th:only-of-type {\n",
       "        vertical-align: middle;\n",
       "    }\n",
       "\n",
       "    .dataframe tbody tr th {\n",
       "        vertical-align: top;\n",
       "    }\n",
       "\n",
       "    .dataframe thead th {\n",
       "        text-align: right;\n",
       "    }\n",
       "</style>\n",
       "<table border=\"1\" class=\"dataframe\">\n",
       "  <thead>\n",
       "    <tr style=\"text-align: right;\">\n",
       "      <th></th>\n",
       "      <th>id</th>\n",
       "      <th>fecha</th>\n",
       "      <th>tipo_elem</th>\n",
       "      <th>intensidad</th>\n",
       "      <th>ocupacion</th>\n",
       "      <th>carga</th>\n",
       "      <th>vmed</th>\n",
       "      <th>error</th>\n",
       "      <th>periodo_integracion</th>\n",
       "    </tr>\n",
       "  </thead>\n",
       "  <tbody>\n",
       "    <tr>\n",
       "      <th>0</th>\n",
       "      <td>1001</td>\n",
       "      <td>2022-01-01 00:00:00</td>\n",
       "      <td>M30</td>\n",
       "      <td>408</td>\n",
       "      <td>1</td>\n",
       "      <td>0</td>\n",
       "      <td>61</td>\n",
       "      <td>N</td>\n",
       "      <td>5</td>\n",
       "    </tr>\n",
       "    <tr>\n",
       "      <th>1</th>\n",
       "      <td>1001</td>\n",
       "      <td>2022-01-01 00:15:00</td>\n",
       "      <td>M30</td>\n",
       "      <td>156</td>\n",
       "      <td>0</td>\n",
       "      <td>0</td>\n",
       "      <td>69</td>\n",
       "      <td>N</td>\n",
       "      <td>5</td>\n",
       "    </tr>\n",
       "  </tbody>\n",
       "</table>\n",
       "</div>"
      ],
      "text/plain": [
       "     id                fecha tipo_elem  intensidad  ocupacion  carga  vmed  \\\n",
       "0  1001  2022-01-01 00:00:00       M30         408          1      0    61   \n",
       "1  1001  2022-01-01 00:15:00       M30         156          0      0    69   \n",
       "\n",
       "  error  periodo_integracion  \n",
       "0     N                    5  \n",
       "1     N                    5  "
      ]
     },
     "execution_count": 4,
     "metadata": {},
     "output_type": "execute_result"
    }
   ],
   "source": [
    "import pandas as pd\n",
    "\n",
    "pd.read_csv(\"/home/jovyan/notebooks/madflow/traffic/01-2022.csv\", nrows=2, delimiter=\";\")"
   ]
  },
  {
   "cell_type": "code",
   "execution_count": null,
   "id": "150f845a-12c7-40dc-aaf3-0656bc676f73",
   "metadata": {},
   "outputs": [],
   "source": []
  }
 ],
 "metadata": {
  "kernelspec": {
   "display_name": "Python 3 (ipykernel)",
   "language": "python",
   "name": "python3"
  },
  "language_info": {
   "codemirror_mode": {
    "name": "ipython",
    "version": 3
   },
   "file_extension": ".py",
   "mimetype": "text/x-python",
   "name": "python",
   "nbconvert_exporter": "python",
   "pygments_lexer": "ipython3",
   "version": "3.11.6"
  }
 },
 "nbformat": 4,
 "nbformat_minor": 5
}
