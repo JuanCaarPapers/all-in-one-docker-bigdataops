{
 "cells": [
  {
   "cell_type": "code",
   "execution_count": null,
   "id": "51334731-6264-41b1-9d9d-017eb521b91d",
   "metadata": {},
   "outputs": [],
   "source": [
    "import requests"
   ]
  },
  {
   "cell_type": "code",
   "execution_count": null,
   "id": "8214107c-350b-4c5b-8745-b0218fcff612",
   "metadata": {},
   "outputs": [],
   "source": [
    "import http.client\n",
    "\n",
    "conn = http.client.HTTPSConnection(\"openapi.emtmadrid.es\")\n",
    "\n",
    "payload = \"\"\n",
    "\n",
    "headers = {\n",
    "    'X-ClientId': \"4614aca0-0a67-4bb9-b912-87b9bd62003c\",\n",
    "    'passKey': \"6D42B608EFDB34D1EE2623846AF4CFB3B88161A28C6CF6973D9569FA746757BF907C058CA211FD8F5787A918E928F30D82F0EFFE8F219F4A54BF53BA10549F06\"\n",
    "    }\n",
    "\n",
    "conn.request(\"GET\", \"/v2/mobilitylabs/user/login/\", payload, headers)\n",
    "\n",
    "res = conn.getresponse()\n",
    "data = res.read()\n",
    "\n",
    "print(data.decode(\"utf-8\"))"
   ]
  },
  {
   "cell_type": "code",
   "execution_count": null,
   "id": "32abd2a6-a5f7-4fd0-aadd-0c24fb41756b",
   "metadata": {},
   "outputs": [],
   "source": [
    "# LOGIN REQUEST\n",
    "\n",
    "url = \"https://openapi.emtmadrid.es/v2/mobilitylabs/user/login/\"\n",
    "\n",
    "headers = {\n",
    "    \"X-ClientId\": \"4614aca0-0a67-4bb9-b912-87b9bd62003c\",\n",
    "    \"passKey\": \"6D42B608EFDB34D1EE2623846AF4CFB3B88161A28C6CF6973D9569FA746757BF907C058CA211FD8F5787A918E928F30D82F0EFFE8F219F4A54BF53BA10549F06\"\n",
    "}\n",
    "\n",
    "response = requests.request(\"GET\", url, headers=headers)\n",
    "access_token = response.json()[\"data\"][0][\"accessToken\"]"
   ]
  },
  {
   "cell_type": "code",
   "execution_count": null,
   "id": "6e49a8d8-769b-4e92-b991-70f510f80778",
   "metadata": {},
   "outputs": [],
   "source": [
    "headers = {\"accessToken\": access_token}\n",
    "\n",
    "url_bicimad_stations = \"https://openapi.emtmadrid.es/v2/transport/bicimad/stations\"\n",
    "url_parking_details = \"https://openapi.emtmadrid.es/v1/citymad/places/parking/{parking_id}/ES\"\n",
    "url_parkings_availability = \"https://openapi.emtmadrid.es/v3/citymad/places/parkings/availability\"\n",
    "url_traffic = \"https://informo.madrid.es/informo/tmadrid/pm.xml\""
   ]
  },
  {
   "cell_type": "code",
   "execution_count": null,
   "id": "575f6434-132f-4ddd-89da-ad30c66b6789",
   "metadata": {},
   "outputs": [],
   "source": [
    "response = requests.request(\"GET\", url_bicimad_stations, headers=headers)\n",
    "bicimad_stations = []\n",
    "for record in response.json()[\"data\"]:\n",
    "    x = [record[\"id\"],\n",
    "         record[\"name\"],\n",
    "         record[\"geometry\"][\"coordinates\"][0],\n",
    "         record[\"geometry\"][\"coordinates\"][1],\n",
    "         record[\"free_bases\"], \n",
    "         record[\"total_bases\"],\n",
    "         record[\"reservations_count\"]\n",
    "        ]\n",
    "    bicimad_stations.append(x)"
   ]
  },
  {
   "cell_type": "code",
   "execution_count": null,
   "id": "4242c411-8bdb-4b03-8f93-a007001c6384",
   "metadata": {},
   "outputs": [],
   "source": [
    "response = requests.request(\"GET\", url_parkings_availability, headers=headers)\n",
    "parkings_availability = []\n",
    "for record in response.json()[\"data\"]:\n",
    "    x = [record[\"id\"], \n",
    "         record[\"freeParking\"],\n",
    "         record[\"geometry\"][\"coordinates\"][0],\n",
    "         record[\"geometry\"][\"coordinates\"][1]\n",
    "        ]\n",
    "    parkings_availability.append(x)"
   ]
  },
  {
   "cell_type": "code",
   "execution_count": null,
   "id": "5c0abe8a-9e05-4950-a54d-ebcc9d759d03",
   "metadata": {},
   "outputs": [],
   "source": [
    "parkings = []\n",
    "for parking_id, free_parking, _, _ in parkings_availability:\n",
    "    \n",
    "    if not free_parking:\n",
    "        continue\n",
    "        \n",
    "    response = requests.request(\"GET\", url_parking_details.format(parking_id=parking_id), headers=headers)\n",
    "    for record in response.json()[\"data\"]:\n",
    "        x = [record[\"id\"], \n",
    "             record[\"name\"], \n",
    "             next((occ[\"content\"] for occ in record[\"features\"] if occ[\"name\"] == \"Total\"), None)\n",
    "            ]\n",
    "        parkings.append(x)"
   ]
  },
  {
   "cell_type": "code",
   "execution_count": null,
   "id": "9300aefd-148e-432f-b484-20e6eda5efc4",
   "metadata": {},
   "outputs": [],
   "source": [
    "from xml.etree import ElementTree \n",
    "\n",
    "response = requests.request(\"GET\", url_traffic)\n",
    "root = ElementTree.fromstring(response.text)\n",
    "all_data = zip(root.findall(\".//pm/idelem\"), \n",
    "               root.findall(\".//pm/intensidad\"),\n",
    "               root.findall(\".//pm/ocupacion\"),\n",
    "               root.findall(\".//pm/carga\"))\n",
    "traffic_real_time = [[x.text,y.text,z.text,t.text] for x, y, z, t in all_data]"
   ]
  },
  {
   "cell_type": "code",
   "execution_count": null,
   "id": "769415f2-4f95-4f8f-adbd-80ac94d2949d",
   "metadata": {},
   "outputs": [],
   "source": [
    "output_dir = \"/home/jovyan/notebooks/madflow/locations\"\n",
    "df = None\n",
    "for i in range(25,231):\n",
    "    try:\n",
    "        url = f\"https://datos.madrid.es/egob/catalogo/202468-{i}-intensidad-trafico.csv\"\n",
    "        dfi = pd.read_csv(url, delimiter=\";\", encoding=\"latin_1\", \n",
    "                          usecols=[\"id\", \"nombre\", \"longitud\", \"latitud\"])\n",
    "        df = pd.concat([df, dfi]) if df is not None else dfi\n",
    "    except Exception as e:\n",
    "        pass\n",
    "\n",
    "df[\"id\"] = pd.to_numeric(df[\"id\"], errors=\"coerce\")\n",
    "df[\"longitud\"] = pd.to_numeric(df[\"longitud\"], errors=\"coerce\")\n",
    "df[\"latitud\"] = pd.to_numeric(df[\"latitud\"], errors=\"coerce\")\n",
    "df = df.dropna(how=\"any\")\n",
    "df[\"id\"] = df[\"id\"].astype(int)\n",
    "df.groupby(\"id\").last().to_parquet(\"/home/jovyan/notebooks/madflow/locations.parquet\")"
   ]
  },
  {
   "cell_type": "code",
   "execution_count": null,
   "id": "371427be-75a5-4f96-8443-40ee6326a21f",
   "metadata": {},
   "outputs": [],
   "source": [
    "from bs4 import BeautifulSoup\n",
    "import requests\n",
    "\n",
    "list_items = \"https://datos.madrid.es/portal/site/egob/menuitem.c05c1f754a33a9fbe4b2e4b284f1a5a0/?vgnextoid=ee941ce6ba6d3410VgnVCM1000000b205a0aRCRD&vgnextchannel=374512b9ace9f310VgnVCM100000171f5a0aRCRD\"\n",
    "response = requests.get(list_items)\n",
    "\n",
    "soup = BeautifulSoup(response.text)\n",
    "[x.get(\"href\") for x in soup.find_all(class_=\"asociada-link ico-csv\")]"
   ]
  },
  {
   "cell_type": "code",
   "execution_count": 1,
   "id": "e9e78fc6-788f-45e4-939a-281a90b97650",
   "metadata": {
    "scrolled": true
   },
   "outputs": [
    {
     "data": {
      "text/plain": [
       "['/egob/catalogo/202468-230-intensidad-trafico.csv',\n",
       " '/egob/catalogo/202468-227-intensidad-trafico.csv',\n",
       " '/egob/catalogo/202468-224-intensidad-trafico.csv',\n",
       " '/egob/catalogo/202468-221-intensidad-trafico.csv',\n",
       " '/egob/catalogo/202468-218-intensidad-trafico.csv',\n",
       " '/egob/catalogo/202468-215-intensidad-trafico.csv',\n",
       " '/egob/catalogo/202468-212-intensidad-trafico.csv',\n",
       " '/egob/catalogo/202468-209-intensidad-trafico.csv',\n",
       " '/egob/catalogo/202468-206-intensidad-trafico.csv',\n",
       " '/egob/catalogo/202468-203-intensidad-trafico.csv',\n",
       " '/egob/catalogo/202468-200-intensidad-trafico.csv',\n",
       " '/egob/catalogo/202468-197-intensidad-trafico.csv',\n",
       " '/egob/catalogo/202468-194-intensidad-trafico.csv',\n",
       " '/egob/catalogo/202468-191-intensidad-trafico.csv',\n",
       " '/egob/catalogo/202468-188-intensidad-trafico.csv',\n",
       " '/egob/catalogo/202468-185-intensidad-trafico.csv',\n",
       " '/egob/catalogo/202468-182-intensidad-trafico.csv',\n",
       " '/egob/catalogo/202468-179-intensidad-trafico.csv',\n",
       " '/egob/catalogo/202468-176-intensidad-trafico.csv',\n",
       " '/egob/catalogo/202468-173-intensidad-trafico.csv',\n",
       " '/egob/catalogo/202468-170-intensidad-trafico.csv',\n",
       " '/egob/catalogo/202468-167-intensidad-trafico.csv',\n",
       " '/egob/catalogo/202468-164-intensidad-trafico.csv',\n",
       " '/egob/catalogo/202468-161-intensidad-trafico.csv',\n",
       " '/egob/catalogo/202468-158-intensidad-trafico.csv',\n",
       " '/egob/catalogo/202468-155-intensidad-trafico.csv',\n",
       " '/egob/catalogo/202468-152-intensidad-trafico.csv',\n",
       " '/egob/catalogo/202468-149-intensidad-trafico.csv',\n",
       " '/egob/catalogo/202468-146-intensidad-trafico.csv',\n",
       " '/egob/catalogo/202468-143-intensidad-trafico.csv',\n",
       " '/egob/catalogo/202468-140-intensidad-trafico.csv',\n",
       " '/egob/catalogo/202468-137-intensidad-trafico.csv',\n",
       " '/egob/catalogo/202468-134-intensidad-trafico.csv',\n",
       " '/egob/catalogo/202468-131-intensidad-trafico.csv',\n",
       " '/egob/catalogo/202468-128-intensidad-trafico.csv',\n",
       " '/egob/catalogo/202468-126-intensidad-trafico.csv',\n",
       " '/egob/catalogo/202468-122-intensidad-trafico.csv',\n",
       " '/egob/catalogo/202468-119-intensidad-trafico.csv',\n",
       " '/egob/catalogo/202468-116-intensidad-trafico.csv',\n",
       " '/egob/catalogo/202468-113-intensidad-trafico.csv',\n",
       " '/egob/catalogo/202468-110-intensidad-trafico.csv',\n",
       " '/egob/catalogo/202468-107-intensidad-trafico.csv',\n",
       " '/egob/catalogo/202468-104-intensidad-trafico.csv',\n",
       " '/egob/catalogo/202468-101-intensidad-trafico.csv',\n",
       " '/egob/catalogo/202468-98-intensidad-trafico.csv',\n",
       " '/egob/catalogo/202468-95-intensidad-trafico.csv',\n",
       " '/egob/catalogo/202468-92-intensidad-trafico.csv',\n",
       " '/egob/catalogo/202468-89-intensidad-trafico.csv',\n",
       " '/egob/catalogo/202468-86-intensidad-trafico.csv',\n",
       " '/egob/catalogo/202468-83-intensidad-trafico.csv',\n",
       " '/egob/catalogo/202468-80-intensidad-trafico.csv',\n",
       " '/egob/catalogo/202468-77-intensidad-trafico.csv',\n",
       " '/egob/catalogo/202468-74-intensidad-trafico.csv',\n",
       " '/egob/catalogo/202468-68-intensidad-trafico.csv',\n",
       " '/egob/catalogo/202468-71-intensidad-trafico.csv',\n",
       " '/egob/catalogo/202468-67-intensidad-trafico.csv',\n",
       " '/egob/catalogo/202468-64-intensidad-trafico.csv',\n",
       " '/egob/catalogo/202468-61-intensidad-trafico.csv',\n",
       " '/egob/catalogo/202468-58-intensidad-trafico.csv',\n",
       " '/egob/catalogo/202468-55-intensidad-trafico.csv',\n",
       " '/egob/catalogo/202468-52-intensidad-trafico.csv',\n",
       " '/egob/catalogo/202468-49-intensidad-trafico.csv',\n",
       " '/egob/catalogo/202468-46-intensidad-trafico.csv',\n",
       " '/egob/catalogo/202468-43-intensidad-trafico.csv',\n",
       " '/egob/catalogo/202468-40-intensidad-trafico.csv',\n",
       " '/egob/catalogo/202468-37-intensidad-trafico.csv',\n",
       " '/egob/catalogo/202468-34-intensidad-trafico.csv',\n",
       " '/egob/catalogo/202468-31-intensidad-trafico.csv',\n",
       " '/egob/catalogo/202468-28-intensidad-trafico.csv',\n",
       " '/egob/catalogo/202468-25-intensidad-trafico.csv',\n",
       " '/egob/catalogo/202468-22-intensidad-trafico.csv']"
      ]
     },
     "execution_count": 1,
     "metadata": {},
     "output_type": "execute_result"
    }
   ],
   "source": [
    "from html.parser import HTMLParser\n",
    "from urllib.request import urlopen\n",
    "\n",
    "# Custom HTML parser to extract 'href' attributes from elements with a specific class\n",
    "class LinkExtractor(HTMLParser):\n",
    "    url = \"https://datos.madrid.es/portal/site/egob/menuitem.c05c1f754a33a9fbe4b2e4b284f1a5a0/?vgnextoid=ee941ce6ba6d3410VgnVCM1000000b205a0aRCRD&vgnextchannel=374512b9ace9f310VgnVCM100000171f5a0aRCRD\"\n",
    "\n",
    "    def __init__(self):\n",
    "        super().__init__()\n",
    "        self.links = []\n",
    "        with urlopen(self.url) as response:\n",
    "            html_content = response.read().decode('utf-8')\n",
    "            self.feed(html_content)\n",
    "\n",
    "\n",
    "    def handle_starttag(self, tag, attrs):\n",
    "        # Check for 'a' tags and attributes\n",
    "        if tag == 'a':\n",
    "            attr_dict = dict(attrs)\n",
    "            if \"class\" in attr_dict and \"asociada-link ico-csv\" in attr_dict[\"class\"]:\n",
    "                href = attr_dict.get(\"href\")\n",
    "                if href:\n",
    "                    self.links.append(href)\n",
    "\n",
    "# Initialize parser and feed it the HTML content\n",
    "parser = LinkExtractor()\n",
    "href_links = parser.links\n",
    "href_links"
   ]
  },
  {
   "cell_type": "code",
   "execution_count": null,
   "id": "4c3a9a5a-5612-4efa-9e12-26ca30942d3e",
   "metadata": {},
   "outputs": [],
   "source": [
    "url = \"https://datos.madrid.es/portal/site/egob/menuitem.c05c1f754a33a9fbe4b2e4b284f1a5a0/?vgnextoid=ee941ce6ba6d3410VgnVCM1000000b205a0aRCRD&vgnextchannel=374512b9ace9f310VgnVCM100000171f5a0aRCRD\"\n",
    "\n",
    "with urlopen(url) as response:\n",
    "    html_content = response.read().decode('utf-8')"
   ]
  },
  {
   "cell_type": "code",
   "execution_count": null,
   "id": "d84281a1-7237-4037-b112-6d27b31900e4",
   "metadata": {},
   "outputs": [],
   "source": [
    "import requests\n",
    "url = \"https://openapi.emtmadrid.es/v1/citymad/places/arroundxy/ES/\"\n",
    "\n",
    "payload = {\n",
    "    \"coordinates\": {\n",
    "        \"longitude\": -3.7004,\n",
    "        \"latitude\": 40.41465,\n",
    "        \"radius\": 20000\n",
    "    },\n",
    "    \"family\": [{\"familyCode\": \"101\"}]\n",
    "}\n",
    "headers = {\n",
    "    \"Content-Type\": \"application/json\",\n",
    "    \"accessToken\": access_token\n",
    "}\n",
    "\n",
    "points_of_interest = []\n",
    "response = requests.request(\"POST\", url, json=payload, headers=headers)\n",
    "\n",
    "raw_poi = next((source for source in response.json()[\"data\"] if source[\"sourceName\"] == 'Point of Interest from MADRID-DESTINO'), {}).get(\"data\", [])\n",
    "output = [[record[\"category\"], record[\"longitude\"], record[\"latitude\"], record[\"idPoi\"], record[\"name\"]] for record in raw_poi]"
   ]
  },
  {
   "cell_type": "code",
   "execution_count": null,
   "id": "e68d4bfa-881a-4cb2-a716-133745f89280",
   "metadata": {
    "scrolled": true
   },
   "outputs": [],
   "source": [
    "len(output)"
   ]
  },
  {
   "cell_type": "code",
   "execution_count": null,
   "id": "58b0c128-5bda-48b9-aa5d-49862767f266",
   "metadata": {},
   "outputs": [],
   "source": [
    "import json\n",
    "import http.client\n",
    "\n",
    "conn = http.client.HTTPSConnection(\"openapi.emtmadrid.es\")\n",
    "\n",
    "payload = '{\"coordinates\":{\"longitude\":-3.7004000,\"latitude\":40.4146500,\"radius\":10000},\\n\"family\":[{\"familyCode\":\"101\"}]}'\n",
    "\n",
    "headers = {\n",
    "    'Content-Type': \"application/json\",\n",
    "    'accessToken': access_token\n",
    "    }\n",
    "\n",
    "conn.request(\"POST\", \"/v1/citymad/places/arroundxy/ES/\", payload, headers)\n",
    "\n",
    "res = conn.getresponse()\n",
    "response_dict = json.loads(res.read().decode(\"utf-8\"))\n",
    "raw_poi = next((source for source in response_dict[\"data\"] if source[\"sourceName\"] == 'Point of Interest from MADRID-DESTINO'), {}).get(\"data\", [])\n",
    "output = [[record[\"category\"], record[\"longitude\"], record[\"latitude\"], record[\"idPoi\"], record[\"name\"]] for record in raw_poi]"
   ]
  },
  {
   "cell_type": "code",
   "execution_count": null,
   "id": "d8d5856c-3da6-449a-aea1-6d19172e831c",
   "metadata": {},
   "outputs": [],
   "source": [
    "output"
   ]
  },
  {
   "cell_type": "code",
   "execution_count": null,
   "id": "a89f4664-87c5-4be4-839d-f2b7cdd07fc1",
   "metadata": {},
   "outputs": [],
   "source": []
  }
 ],
 "metadata": {
  "kernelspec": {
   "display_name": "Python 3 (ipykernel)",
   "language": "python",
   "name": "python3"
  },
  "language_info": {
   "codemirror_mode": {
    "name": "ipython",
    "version": 3
   },
   "file_extension": ".py",
   "mimetype": "text/x-python",
   "name": "python",
   "nbconvert_exporter": "python",
   "pygments_lexer": "ipython3",
   "version": "3.11.6"
  }
 },
 "nbformat": 4,
 "nbformat_minor": 5
}
