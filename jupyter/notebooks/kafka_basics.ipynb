{
 "cells": [
  {
   "cell_type": "code",
   "execution_count": null,
   "id": "828a5540-621f-45ab-92a7-ca04ac281534",
   "metadata": {},
   "outputs": [],
   "source": [
    "from kafka import KafkaProducer, KafkaConsumer\n",
    "from kafka.admin import KafkaAdminClient, NewTopic\n",
    "import json"
   ]
  },
  {
   "cell_type": "code",
   "execution_count": null,
   "id": "f99b3a55-af18-413d-8def-759a70eae2b8",
   "metadata": {},
   "outputs": [],
   "source": [
    "# Configure the Kafka client\n",
    "admin_client = KafkaAdminClient(bootstrap_servers=\"kafka:9092\")\n",
    "\n",
    "# Define the new topic you want to create\n",
    "new_topic = NewTopic(\n",
    "    name=\"device-data\",  # Topic name\n",
    "    num_partitions=1,  # Number of partitions\n",
    "    replication_factor=1  # Replication factor (adjust as needed)\n",
    ")\n",
    "\n",
    "# Create the topic\n",
    "admin_client.create_topics(new_topics=[new_topic], validate_only=False)"
   ]
  },
  {
   "cell_type": "code",
   "execution_count": null,
   "id": "76b8189e-c8ae-43df-b435-01aec5780708",
   "metadata": {},
   "outputs": [],
   "source": [
    "admin_client.list_topics()"
   ]
  },
  {
   "cell_type": "code",
   "execution_count": null,
   "id": "6c2f835f-0d63-40d7-b316-ac0bae6547e2",
   "metadata": {},
   "outputs": [],
   "source": [
    "import time\n",
    "\n",
    "producer = KafkaProducer(\n",
    "    bootstrap_servers='kafka:9092',\n",
    "    value_serializer=lambda v: v.encode(\"utf-8\")\n",
    ")\n",
    "\n",
    "# Define the topic to send messages to\n",
    "topic_name = 'device-data'\n",
    "\n",
    "# Send word messages to words topic\n",
    "#with open('/home/jovyan/data/words.txt', 'r') as file:\n",
    "\n",
    "# Read the JSON-like messages from the text file\n",
    "with open('/home/jovyan/data/device_data/device_data_samples.txt', 'r') as file:\n",
    "    for line in file:\n",
    "        producer.send(topic_name, value=line.strip())\n",
    "        producer.flush()"
   ]
  },
  {
   "cell_type": "code",
   "execution_count": null,
   "id": "f32cde15-5a7c-4a60-b8a7-dc2737acc85f",
   "metadata": {},
   "outputs": [],
   "source": [
    "consumer = KafkaConsumer(\n",
    "    'device-data',\n",
    "    bootstrap_servers='kafka:9092',\n",
    "    auto_offset_reset='earliest',\n",
    "    value_deserializer=lambda x: x.decode('utf-8')\n",
    ")\n",
    "\n",
    "for message in consumer:\n",
    "    print(message)"
   ]
  },
  {
   "cell_type": "code",
   "execution_count": null,
   "id": "e75d3b0b-28dc-4a45-8f53-83ccbbdb696e",
   "metadata": {},
   "outputs": [],
   "source": []
  }
 ],
 "metadata": {
  "kernelspec": {
   "display_name": "Python 3 (ipykernel)",
   "language": "python",
   "name": "python3"
  },
  "language_info": {
   "codemirror_mode": {
    "name": "ipython",
    "version": 3
   },
   "file_extension": ".py",
   "mimetype": "text/x-python",
   "name": "python",
   "nbconvert_exporter": "python",
   "pygments_lexer": "ipython3",
   "version": "3.11.6"
  }
 },
 "nbformat": 4,
 "nbformat_minor": 5
}
